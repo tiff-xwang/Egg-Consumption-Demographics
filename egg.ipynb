{
 "cells": [
  {
   "cell_type": "code",
   "execution_count": 60,
   "id": "d57fc9e9-0e77-4de3-9f9c-044269a559da",
   "metadata": {},
   "outputs": [
    {
     "name": "stdout",
     "output_type": "stream",
     "text": [
      "Requirement already satisfied: rpy2 in /Users/tiffsmacbookair/.pyenv/versions/3.12.7/lib/python3.12/site-packages (3.5.17)\n",
      "Requirement already satisfied: cffi>=1.15.1 in /Users/tiffsmacbookair/.pyenv/versions/3.12.7/lib/python3.12/site-packages (from rpy2) (1.17.1)\n",
      "Requirement already satisfied: jinja2 in /Users/tiffsmacbookair/.pyenv/versions/3.12.7/lib/python3.12/site-packages (from rpy2) (3.1.4)\n",
      "Requirement already satisfied: tzlocal in /Users/tiffsmacbookair/.pyenv/versions/3.12.7/lib/python3.12/site-packages (from rpy2) (5.2)\n",
      "Requirement already satisfied: pycparser in /Users/tiffsmacbookair/.pyenv/versions/3.12.7/lib/python3.12/site-packages (from cffi>=1.15.1->rpy2) (2.22)\n",
      "Requirement already satisfied: MarkupSafe>=2.0 in /Users/tiffsmacbookair/.pyenv/versions/3.12.7/lib/python3.12/site-packages (from jinja2->rpy2) (3.0.2)\n",
      "\n",
      "\u001b[1m[\u001b[0m\u001b[34;49mnotice\u001b[0m\u001b[1;39;49m]\u001b[0m\u001b[39;49m A new release of pip is available: \u001b[0m\u001b[31;49m24.2\u001b[0m\u001b[39;49m -> \u001b[0m\u001b[32;49m25.0.1\u001b[0m\n",
      "\u001b[1m[\u001b[0m\u001b[34;49mnotice\u001b[0m\u001b[1;39;49m]\u001b[0m\u001b[39;49m To update, run: \u001b[0m\u001b[32;49mpip install --upgrade pip\u001b[0m\n",
      "The rpy2.ipython extension is already loaded. To reload it, use:\n",
      "  %reload_ext rpy2.ipython\n",
      "The autoreload extension is already loaded. To reload it, use:\n",
      "  %reload_ext autoreload\n"
     ]
    }
   ],
   "source": [
    "!pip install rpy2\n",
    "%load_ext rpy2.ipython\n",
    "%load_ext autoreload\n",
    "%autoreload 2\n",
    "\n",
    "%matplotlib inline  \n",
    "from matplotlib import rcParams\n",
    "rcParams['figure.figsize'] = (16, 100)\n",
    "\n",
    "import warnings\n",
    "from rpy2.rinterface import RRuntimeWarning\n",
    "warnings.filterwarnings(\"ignore\") # Ignore all warnings\n",
    "# warnings.filterwarnings(\"ignore\", category=RRuntimeWarning) # Show some warnings\n",
    "\n",
    "import pandas as pd\n",
    "import numpy as np\n",
    "import matplotlib.pyplot as plt\n",
    "from IPython.display import display, HTML"
   ]
  },
  {
   "cell_type": "code",
   "execution_count": 61,
   "id": "dfc51791-53a5-4eb4-93b8-64f49695226a",
   "metadata": {},
   "outputs": [
    {
     "data": {
      "application/javascript": [
       "// Disable auto-scrolling\n",
       "IPython.OutputArea.prototype._should_scroll = function(lines) {\n",
       "    return false;\n",
       "}\n"
      ],
      "text/plain": [
       "<IPython.core.display.Javascript object>"
      ]
     },
     "metadata": {},
     "output_type": "display_data"
    }
   ],
   "source": [
    "%%javascript\n",
    "// Disable auto-scrolling\n",
    "IPython.OutputArea.prototype._should_scroll = function(lines) {\n",
    "    return false;\n",
    "}"
   ]
  },
  {
   "cell_type": "code",
   "execution_count": 62,
   "id": "71a759cf-d138-46ca-b922-e0872fc9f8ec",
   "metadata": {},
   "outputs": [],
   "source": [
    "%%R\n",
    "\n",
    "require('tidyverse')"
   ]
  },
  {
   "cell_type": "code",
   "execution_count": 277,
   "id": "79301fb3-0576-4ce4-beb2-44029cc4a6a4",
   "metadata": {},
   "outputs": [
    {
     "name": "stdout",
     "output_type": "stream",
     "text": [
      "\n",
      "The downloaded binary packages are in\n",
      "\t/var/folders/29/tm85f6r96dl6jl70q7g6h2rr0000gn/T//RtmpUcuNsv/downloaded_packages\n"
     ]
    },
    {
     "data": {
      "text/plain": [
       "trying URL 'https://mirror.las.iastate.edu/CRAN/bin/macosx/big-sur-x86_64/contrib/4.4/svglite_2.1.3.tgz'\n",
       "Content type 'application/x-gzip' length 926606 bytes (904 KB)\n",
       "==================================================\n",
       "downloaded 904 KB\n",
       "\n"
      ]
     },
     "metadata": {},
     "output_type": "display_data"
    }
   ],
   "source": [
    "%%R\n",
    "\n",
    "install.packages(\"svglite\")  # Install svglite\n",
    "library(svglite)  # Load it"
   ]
  },
  {
   "cell_type": "markdown",
   "id": "801ab8ca-f501-426c-9bf9-ebe5dd987d8d",
   "metadata": {},
   "source": [
    "### August 2021-August 2023 National Health and Nutrition Examination Survey"
   ]
  },
  {
   "cell_type": "code",
   "execution_count": 65,
   "id": "4e319c46-defa-4ddf-8236-3a65e278112c",
   "metadata": {},
   "outputs": [
    {
     "data": {
      "text/html": [
       "<div>\n",
       "<style scoped>\n",
       "    .dataframe tbody tr th:only-of-type {\n",
       "        vertical-align: middle;\n",
       "    }\n",
       "\n",
       "    .dataframe tbody tr th {\n",
       "        vertical-align: top;\n",
       "    }\n",
       "\n",
       "    .dataframe thead th {\n",
       "        text-align: right;\n",
       "    }\n",
       "</style>\n",
       "<table border=\"1\" class=\"dataframe\">\n",
       "  <thead>\n",
       "    <tr style=\"text-align: right;\">\n",
       "      <th></th>\n",
       "      <th>SEQN</th>\n",
       "      <th>food_code</th>\n",
       "    </tr>\n",
       "  </thead>\n",
       "  <tbody>\n",
       "    <tr>\n",
       "      <th>0</th>\n",
       "      <td>130378</td>\n",
       "      <td>94000100.0</td>\n",
       "    </tr>\n",
       "    <tr>\n",
       "      <th>1</th>\n",
       "      <td>130378</td>\n",
       "      <td>94000100.0</td>\n",
       "    </tr>\n",
       "    <tr>\n",
       "      <th>2</th>\n",
       "      <td>130378</td>\n",
       "      <td>92101000.0</td>\n",
       "    </tr>\n",
       "    <tr>\n",
       "      <th>3</th>\n",
       "      <td>130378</td>\n",
       "      <td>94000100.0</td>\n",
       "    </tr>\n",
       "    <tr>\n",
       "      <th>4</th>\n",
       "      <td>130378</td>\n",
       "      <td>83102000.0</td>\n",
       "    </tr>\n",
       "  </tbody>\n",
       "</table>\n",
       "</div>"
      ],
      "text/plain": [
       "     SEQN   food_code\n",
       "0  130378  94000100.0\n",
       "1  130378  94000100.0\n",
       "2  130378  92101000.0\n",
       "3  130378  94000100.0\n",
       "4  130378  83102000.0"
      ]
     },
     "execution_count": 65,
     "metadata": {},
     "output_type": "execute_result"
    }
   ],
   "source": [
    "# reading in participant ID and type of food they consumed\n",
    "df = pd.read_csv('docs/2021-23/dietary_selected.csv')\n",
    "df.rename(columns={\"DR1IFDCD\": \"food_code\"}, inplace=True)\n",
    "df.head()"
   ]
  },
  {
   "cell_type": "code",
   "execution_count": 67,
   "id": "da5d1127-34f2-43c3-a3da-2bbde4a00949",
   "metadata": {},
   "outputs": [
    {
     "data": {
      "text/html": [
       "<div>\n",
       "<style scoped>\n",
       "    .dataframe tbody tr th:only-of-type {\n",
       "        vertical-align: middle;\n",
       "    }\n",
       "\n",
       "    .dataframe tbody tr th {\n",
       "        vertical-align: top;\n",
       "    }\n",
       "\n",
       "    .dataframe thead th {\n",
       "        text-align: right;\n",
       "    }\n",
       "</style>\n",
       "<table border=\"1\" class=\"dataframe\">\n",
       "  <thead>\n",
       "    <tr style=\"text-align: right;\">\n",
       "      <th></th>\n",
       "      <th>food_code</th>\n",
       "      <th>food_code_description</th>\n",
       "      <th>category_number</th>\n",
       "      <th>category_description</th>\n",
       "      <th>reports_day1</th>\n",
       "      <th>reports_day2</th>\n",
       "    </tr>\n",
       "  </thead>\n",
       "  <tbody>\n",
       "    <tr>\n",
       "      <th>0</th>\n",
       "      <td>11000000</td>\n",
       "      <td>Milk, human</td>\n",
       "      <td>9602</td>\n",
       "      <td>Human milk</td>\n",
       "      <td>766</td>\n",
       "      <td>607</td>\n",
       "    </tr>\n",
       "    <tr>\n",
       "      <th>1</th>\n",
       "      <td>11100000</td>\n",
       "      <td>Milk, NFS</td>\n",
       "      <td>1004</td>\n",
       "      <td>Milk, reduced fat</td>\n",
       "      <td>177</td>\n",
       "      <td>68</td>\n",
       "    </tr>\n",
       "    <tr>\n",
       "      <th>2</th>\n",
       "      <td>11111000</td>\n",
       "      <td>Milk, cow's, fluid, whole</td>\n",
       "      <td>1002</td>\n",
       "      <td>Milk, whole</td>\n",
       "      <td>1762</td>\n",
       "      <td>1618</td>\n",
       "    </tr>\n",
       "    <tr>\n",
       "      <th>3</th>\n",
       "      <td>11111100</td>\n",
       "      <td>Milk, cow's, fluid, whole, low-sodium</td>\n",
       "      <td>1002</td>\n",
       "      <td>Milk, whole</td>\n",
       "      <td>0</td>\n",
       "      <td>0</td>\n",
       "    </tr>\n",
       "    <tr>\n",
       "      <th>4</th>\n",
       "      <td>11111150</td>\n",
       "      <td>Milk, calcium fortified, cow's, fluid, whole</td>\n",
       "      <td>1002</td>\n",
       "      <td>Milk, whole</td>\n",
       "      <td>0</td>\n",
       "      <td>0</td>\n",
       "    </tr>\n",
       "  </tbody>\n",
       "</table>\n",
       "</div>"
      ],
      "text/plain": [
       "   food_code                         food_code_description  category_number  \\\n",
       "0   11000000                                   Milk, human             9602   \n",
       "1   11100000                                     Milk, NFS             1004   \n",
       "2   11111000                     Milk, cow's, fluid, whole             1002   \n",
       "3   11111100         Milk, cow's, fluid, whole, low-sodium             1002   \n",
       "4   11111150  Milk, calcium fortified, cow's, fluid, whole             1002   \n",
       "\n",
       "  category_description  reports_day1  reports_day2  \n",
       "0           Human milk           766           607  \n",
       "1    Milk, reduced fat           177            68  \n",
       "2          Milk, whole          1762          1618  \n",
       "3          Milk, whole             0             0  \n",
       "4          Milk, whole             0             0  "
      ]
     },
     "execution_count": 67,
     "metadata": {},
     "output_type": "execute_result"
    }
   ],
   "source": [
    "# reading in all the food codes, not just eggs; some codes in this Excel sheet are no longer on USDA's website\n",
    "\n",
    "codes = pd.read_excel('docs/WWEIA1112_foodcat_FNDDS.xlsx')\n",
    "codes.head()"
   ]
  },
  {
   "cell_type": "code",
   "execution_count": 68,
   "id": "aba3415d-2f96-4199-805b-bd2c827c9e3f",
   "metadata": {},
   "outputs": [
    {
     "data": {
      "text/plain": [
       "(180, 6)"
      ]
     },
     "execution_count": 68,
     "metadata": {},
     "output_type": "execute_result"
    }
   ],
   "source": [
    "# filter for eggs from USDA's Excel sheet\n",
    "\n",
    "egg = codes[codes['category_description'] == 'Eggs and omelets']\n",
    "egg.shape"
   ]
  },
  {
   "cell_type": "code",
   "execution_count": null,
   "id": "9e685e2c-c1b6-44be-8ca7-476fd8cea0f7",
   "metadata": {},
   "outputs": [],
   "source": [
    "# saving the result to a new Excel\n",
    "\n",
    "egg.to_excel('egg.xlsx', index=False)"
   ]
  },
  {
   "cell_type": "markdown",
   "id": "e7874878-6e2d-4fce-95e3-a266a9f35f88",
   "metadata": {},
   "source": [
    "**These are all the food codes of egg-related items I copied by hand from the [USDA WWEIA Food Category](https://fdc.nal.usda.gov/food-search?type=Survey%20(FNDDS)&WWEIAFoodCategory=Eggs%20and%20omelets), which is more up to date. I'm using this list to cross-reference to the food code Excel sheet (WWEIA1112_foodcat_FNDDS.xlsx) I downloaded from USDA to ensure that all past and present egg-related food codes are accounted for.**"
   ]
  },
  {
   "cell_type": "code",
   "execution_count": null,
   "id": "78035343-f0cf-41ae-80f3-6e0ce0f582f6",
   "metadata": {},
   "outputs": [],
   "source": [
    "egg_code = [14630200, 31201000, 32105190, 32130080, 32130040, 32130020, 32130060, 32130000, 32130010, 32130070, 32129990, 32130065, 32130630, 32130640, 32130650, 32130340, 32130320, 32130360, 32130300, 32130310, 32130370, 32130290, 32130365, 32130600, 32130610, 32130620, 32130690, 32130700, 32130710, 32130140, 32130120, 32130160, 32130100, 32130110, 32131030, 32131040, 32131050, 32131000, 32131010, 32131020, 32131090, 32131100, 32131110, 32131060, 32131070, 32131080, 32130170, 32130660, 32130670, 32130680, 32130430, 32130440, 32130450, 32130830, 32130840, 32130850, 32130800, 32130810, 32130820, 32130890, 32130900, 32130910, 32130240, 32130220, 32130260, 32130200, 32130210, 32130270, 32130190, 32130265, 32130860, 32130870, 32130880, 32131200, 32131210, 32131220, 32130460, 32130470, 32130480, 32130400, 32130410, 32130420, 32130490, 32130500, 32130510, 32103050, 32103030, 32103040, 32103035, 32103045, 32103015, 32103025, 32103000, 32103020, 32400070, 32400075, 32400060, 32400065, 32400080, 32400055, 32400078, 32400100, 32400400, 32400500, 32400700, 32400200, 32400600, 32400300, 32101500, 32101000, 32102000, 31108010, 31108120, 31108110, 31108100, 31106020, 31106010, 31106000, 31103010, 31102000, 31105010, 31105060, 31105040, 31105080, 31105020, 31105030, 31105090, 31105005, 31105085, 31107000, 31101010, 31111020, 31111010, 31111000, 31110010, 32105180]"
   ]
  },
  {
   "cell_type": "code",
   "execution_count": null,
   "id": "ccde7e49-f022-4c9f-bfa0-9c48204a1c68",
   "metadata": {},
   "outputs": [],
   "source": [
    "# turning the list into a set for easier visualization\n",
    "egg_code_set = set(egg_code)"
   ]
  },
  {
   "cell_type": "markdown",
   "id": "136ece14-9727-41ae-a25a-3979a441946e",
   "metadata": {},
   "source": [
    "**There were discrepancies between `egg_code`(my copy) and `codes`(USDA's Excel), so I updated my local `egg` Excel sheet and re-read it. The problem seems to be that USDA's Excel includes a more expansive list of food codes but is missing the most recent additions, which are in my copy straight from USDA's website.**"
   ]
  },
  {
   "cell_type": "code",
   "execution_count": 69,
   "id": "06e0e62e-8099-4210-992b-5c8089ff93d2",
   "metadata": {},
   "outputs": [],
   "source": [
    "egg = pd.read_excel('docs/2021-23/egg.xlsx')"
   ]
  },
  {
   "cell_type": "code",
   "execution_count": 70,
   "id": "654ee9d9-6d5f-46b2-b5f9-9b0b7dc08717",
   "metadata": {
    "scrolled": true
   },
   "outputs": [
    {
     "data": {
      "text/html": [
       "<div>\n",
       "<style scoped>\n",
       "    .dataframe tbody tr th:only-of-type {\n",
       "        vertical-align: middle;\n",
       "    }\n",
       "\n",
       "    .dataframe tbody tr th {\n",
       "        vertical-align: top;\n",
       "    }\n",
       "\n",
       "    .dataframe thead th {\n",
       "        text-align: right;\n",
       "    }\n",
       "</style>\n",
       "<table border=\"1\" class=\"dataframe\">\n",
       "  <thead>\n",
       "    <tr style=\"text-align: right;\">\n",
       "      <th></th>\n",
       "      <th>SEQN</th>\n",
       "      <th>food_code</th>\n",
       "      <th>food_code_description</th>\n",
       "      <th>category_number</th>\n",
       "      <th>category_description</th>\n",
       "      <th>reports_day1</th>\n",
       "      <th>reports_day2</th>\n",
       "    </tr>\n",
       "  </thead>\n",
       "  <tbody>\n",
       "    <tr>\n",
       "      <th>0</th>\n",
       "      <td>130389</td>\n",
       "      <td>32131090.0</td>\n",
       "      <td>Egg omelet or scrambled egg, with cheese, meat...</td>\n",
       "      <td>2502</td>\n",
       "      <td>Eggs and omelets</td>\n",
       "      <td>7</td>\n",
       "      <td>8</td>\n",
       "    </tr>\n",
       "    <tr>\n",
       "      <th>1</th>\n",
       "      <td>130394</td>\n",
       "      <td>31105030.0</td>\n",
       "      <td>Egg, whole, fried with oil</td>\n",
       "      <td>2502</td>\n",
       "      <td>Eggs and omelets</td>\n",
       "      <td>223</td>\n",
       "      <td>215</td>\n",
       "    </tr>\n",
       "    <tr>\n",
       "      <th>2</th>\n",
       "      <td>130397</td>\n",
       "      <td>31105090.0</td>\n",
       "      <td>Egg, whole, fried, from fast food / restaurant</td>\n",
       "      <td>2502</td>\n",
       "      <td>Eggs and omelets</td>\n",
       "      <td>30</td>\n",
       "      <td>17</td>\n",
       "    </tr>\n",
       "    <tr>\n",
       "      <th>3</th>\n",
       "      <td>130413</td>\n",
       "      <td>32130400.0</td>\n",
       "      <td>Egg omelet or scrambled egg, with tomatoes, fa...</td>\n",
       "      <td>2502</td>\n",
       "      <td>Eggs and omelets</td>\n",
       "      <td>17</td>\n",
       "      <td>18</td>\n",
       "    </tr>\n",
       "    <tr>\n",
       "      <th>4</th>\n",
       "      <td>130432</td>\n",
       "      <td>31105030.0</td>\n",
       "      <td>Egg, whole, fried with oil</td>\n",
       "      <td>2502</td>\n",
       "      <td>Eggs and omelets</td>\n",
       "      <td>223</td>\n",
       "      <td>215</td>\n",
       "    </tr>\n",
       "    <tr>\n",
       "      <th>5</th>\n",
       "      <td>130437</td>\n",
       "      <td>32131100.0</td>\n",
       "      <td>Egg omelet or scrambled egg, with cheese, meat...</td>\n",
       "      <td>2502</td>\n",
       "      <td>Eggs and omelets</td>\n",
       "      <td>1</td>\n",
       "      <td>2</td>\n",
       "    </tr>\n",
       "    <tr>\n",
       "      <th>6</th>\n",
       "      <td>130438</td>\n",
       "      <td>31105040.0</td>\n",
       "      <td>Egg, whole, fried with butter</td>\n",
       "      <td>2502</td>\n",
       "      <td>Eggs and omelets</td>\n",
       "      <td>50</td>\n",
       "      <td>35</td>\n",
       "    </tr>\n",
       "    <tr>\n",
       "      <th>7</th>\n",
       "      <td>130444</td>\n",
       "      <td>31103010.0</td>\n",
       "      <td>Egg, whole, boiled or poached</td>\n",
       "      <td>2502</td>\n",
       "      <td>Eggs and omelets</td>\n",
       "      <td>215</td>\n",
       "      <td>261</td>\n",
       "    </tr>\n",
       "    <tr>\n",
       "      <th>8</th>\n",
       "      <td>130453</td>\n",
       "      <td>31105060.0</td>\n",
       "      <td>Egg, whole, fried with animal fat or meat drip...</td>\n",
       "      <td>2502</td>\n",
       "      <td>Eggs and omelets</td>\n",
       "      <td>16</td>\n",
       "      <td>6</td>\n",
       "    </tr>\n",
       "    <tr>\n",
       "      <th>9</th>\n",
       "      <td>130471</td>\n",
       "      <td>33001010.0</td>\n",
       "      <td>Egg substitute, omelet, scrambled, or fried, m...</td>\n",
       "      <td>2502</td>\n",
       "      <td>Eggs and omelets</td>\n",
       "      <td>10</td>\n",
       "      <td>9</td>\n",
       "    </tr>\n",
       "    <tr>\n",
       "      <th>10</th>\n",
       "      <td>130490</td>\n",
       "      <td>31103010.0</td>\n",
       "      <td>Egg, whole, boiled or poached</td>\n",
       "      <td>2502</td>\n",
       "      <td>Eggs and omelets</td>\n",
       "      <td>215</td>\n",
       "      <td>261</td>\n",
       "    </tr>\n",
       "    <tr>\n",
       "      <th>11</th>\n",
       "      <td>130500</td>\n",
       "      <td>32130160.0</td>\n",
       "      <td>Egg omelet or scrambled egg, with cheese, made...</td>\n",
       "      <td>2502</td>\n",
       "      <td>Eggs and omelets</td>\n",
       "      <td>22</td>\n",
       "      <td>5</td>\n",
       "    </tr>\n",
       "    <tr>\n",
       "      <th>12</th>\n",
       "      <td>130500</td>\n",
       "      <td>31103010.0</td>\n",
       "      <td>Egg, whole, boiled or poached</td>\n",
       "      <td>2502</td>\n",
       "      <td>Eggs and omelets</td>\n",
       "      <td>215</td>\n",
       "      <td>261</td>\n",
       "    </tr>\n",
       "    <tr>\n",
       "      <th>13</th>\n",
       "      <td>130511</td>\n",
       "      <td>32130890.0</td>\n",
       "      <td>Egg omelet or scrambled egg, with meat and veg...</td>\n",
       "      <td>2502</td>\n",
       "      <td>Eggs and omelets</td>\n",
       "      <td>8</td>\n",
       "      <td>5</td>\n",
       "    </tr>\n",
       "    <tr>\n",
       "      <th>14</th>\n",
       "      <td>130513</td>\n",
       "      <td>32130020.0</td>\n",
       "      <td>Egg omelet or scrambled egg, made with butter</td>\n",
       "      <td>2502</td>\n",
       "      <td>Eggs and omelets</td>\n",
       "      <td>71</td>\n",
       "      <td>80</td>\n",
       "    </tr>\n",
       "    <tr>\n",
       "      <th>15</th>\n",
       "      <td>130515</td>\n",
       "      <td>31105040.0</td>\n",
       "      <td>Egg, whole, fried with butter</td>\n",
       "      <td>2502</td>\n",
       "      <td>Eggs and omelets</td>\n",
       "      <td>50</td>\n",
       "      <td>35</td>\n",
       "    </tr>\n",
       "    <tr>\n",
       "      <th>16</th>\n",
       "      <td>130525</td>\n",
       "      <td>31105040.0</td>\n",
       "      <td>Egg, whole, fried with butter</td>\n",
       "      <td>2502</td>\n",
       "      <td>Eggs and omelets</td>\n",
       "      <td>50</td>\n",
       "      <td>35</td>\n",
       "    </tr>\n",
       "    <tr>\n",
       "      <th>17</th>\n",
       "      <td>130527</td>\n",
       "      <td>31103010.0</td>\n",
       "      <td>Egg, whole, boiled or poached</td>\n",
       "      <td>2502</td>\n",
       "      <td>Eggs and omelets</td>\n",
       "      <td>215</td>\n",
       "      <td>261</td>\n",
       "    </tr>\n",
       "    <tr>\n",
       "      <th>18</th>\n",
       "      <td>130530</td>\n",
       "      <td>31105040.0</td>\n",
       "      <td>Egg, whole, fried with butter</td>\n",
       "      <td>2502</td>\n",
       "      <td>Eggs and omelets</td>\n",
       "      <td>50</td>\n",
       "      <td>35</td>\n",
       "    </tr>\n",
       "    <tr>\n",
       "      <th>19</th>\n",
       "      <td>130537</td>\n",
       "      <td>31105080.0</td>\n",
       "      <td>Egg, whole, fried with cooking spray</td>\n",
       "      <td>2502</td>\n",
       "      <td>Eggs and omelets</td>\n",
       "      <td>33</td>\n",
       "      <td>15</td>\n",
       "    </tr>\n",
       "  </tbody>\n",
       "</table>\n",
       "</div>"
      ],
      "text/plain": [
       "      SEQN   food_code                              food_code_description  \\\n",
       "0   130389  32131090.0  Egg omelet or scrambled egg, with cheese, meat...   \n",
       "1   130394  31105030.0                         Egg, whole, fried with oil   \n",
       "2   130397  31105090.0     Egg, whole, fried, from fast food / restaurant   \n",
       "3   130413  32130400.0  Egg omelet or scrambled egg, with tomatoes, fa...   \n",
       "4   130432  31105030.0                         Egg, whole, fried with oil   \n",
       "5   130437  32131100.0  Egg omelet or scrambled egg, with cheese, meat...   \n",
       "6   130438  31105040.0                      Egg, whole, fried with butter   \n",
       "7   130444  31103010.0                      Egg, whole, boiled or poached   \n",
       "8   130453  31105060.0  Egg, whole, fried with animal fat or meat drip...   \n",
       "9   130471  33001010.0  Egg substitute, omelet, scrambled, or fried, m...   \n",
       "10  130490  31103010.0                      Egg, whole, boiled or poached   \n",
       "11  130500  32130160.0  Egg omelet or scrambled egg, with cheese, made...   \n",
       "12  130500  31103010.0                      Egg, whole, boiled or poached   \n",
       "13  130511  32130890.0  Egg omelet or scrambled egg, with meat and veg...   \n",
       "14  130513  32130020.0      Egg omelet or scrambled egg, made with butter   \n",
       "15  130515  31105040.0                      Egg, whole, fried with butter   \n",
       "16  130525  31105040.0                      Egg, whole, fried with butter   \n",
       "17  130527  31103010.0                      Egg, whole, boiled or poached   \n",
       "18  130530  31105040.0                      Egg, whole, fried with butter   \n",
       "19  130537  31105080.0               Egg, whole, fried with cooking spray   \n",
       "\n",
       "    category_number category_description  reports_day1  reports_day2  \n",
       "0              2502     Eggs and omelets             7             8  \n",
       "1              2502     Eggs and omelets           223           215  \n",
       "2              2502     Eggs and omelets            30            17  \n",
       "3              2502     Eggs and omelets            17            18  \n",
       "4              2502     Eggs and omelets           223           215  \n",
       "5              2502     Eggs and omelets             1             2  \n",
       "6              2502     Eggs and omelets            50            35  \n",
       "7              2502     Eggs and omelets           215           261  \n",
       "8              2502     Eggs and omelets            16             6  \n",
       "9              2502     Eggs and omelets            10             9  \n",
       "10             2502     Eggs and omelets           215           261  \n",
       "11             2502     Eggs and omelets            22             5  \n",
       "12             2502     Eggs and omelets           215           261  \n",
       "13             2502     Eggs and omelets             8             5  \n",
       "14             2502     Eggs and omelets            71            80  \n",
       "15             2502     Eggs and omelets            50            35  \n",
       "16             2502     Eggs and omelets            50            35  \n",
       "17             2502     Eggs and omelets           215           261  \n",
       "18             2502     Eggs and omelets            50            35  \n",
       "19             2502     Eggs and omelets            33            15  "
      ]
     },
     "execution_count": 70,
     "metadata": {},
     "output_type": "execute_result"
    }
   ],
   "source": [
    "# inner join with original table that has all types of food a participant consumed\n",
    "\n",
    "df = pd.merge(df, egg, on='food_code', how='inner')\n",
    "df.head(20)"
   ]
  },
  {
   "cell_type": "code",
   "execution_count": null,
   "id": "d053b98f-8367-4145-ba17-7e2dcb9905e1",
   "metadata": {},
   "outputs": [],
   "source": [
    "df.info()"
   ]
  },
  {
   "cell_type": "code",
   "execution_count": 71,
   "id": "19bbd853-7f9a-4aa3-9299-c5b949c4ca58",
   "metadata": {},
   "outputs": [
    {
     "data": {
      "text/html": [
       "<div>\n",
       "<style scoped>\n",
       "    .dataframe tbody tr th:only-of-type {\n",
       "        vertical-align: middle;\n",
       "    }\n",
       "\n",
       "    .dataframe tbody tr th {\n",
       "        vertical-align: top;\n",
       "    }\n",
       "\n",
       "    .dataframe thead th {\n",
       "        text-align: right;\n",
       "    }\n",
       "</style>\n",
       "<table border=\"1\" class=\"dataframe\">\n",
       "  <thead>\n",
       "    <tr style=\"text-align: right;\">\n",
       "      <th></th>\n",
       "      <th>SEQN</th>\n",
       "      <th>food_code</th>\n",
       "      <th>food_code_description</th>\n",
       "      <th>category_number</th>\n",
       "      <th>category_description</th>\n",
       "      <th>reports_day1</th>\n",
       "      <th>reports_day2</th>\n",
       "    </tr>\n",
       "  </thead>\n",
       "  <tbody>\n",
       "    <tr>\n",
       "      <th>0</th>\n",
       "      <td>130389</td>\n",
       "      <td>32131090</td>\n",
       "      <td>Egg omelet or scrambled egg, with cheese, meat...</td>\n",
       "      <td>2502</td>\n",
       "      <td>Eggs and omelets</td>\n",
       "      <td>7</td>\n",
       "      <td>8</td>\n",
       "    </tr>\n",
       "    <tr>\n",
       "      <th>1</th>\n",
       "      <td>130394</td>\n",
       "      <td>31105030</td>\n",
       "      <td>Egg, whole, fried with oil</td>\n",
       "      <td>2502</td>\n",
       "      <td>Eggs and omelets</td>\n",
       "      <td>223</td>\n",
       "      <td>215</td>\n",
       "    </tr>\n",
       "    <tr>\n",
       "      <th>2</th>\n",
       "      <td>130397</td>\n",
       "      <td>31105090</td>\n",
       "      <td>Egg, whole, fried, from fast food / restaurant</td>\n",
       "      <td>2502</td>\n",
       "      <td>Eggs and omelets</td>\n",
       "      <td>30</td>\n",
       "      <td>17</td>\n",
       "    </tr>\n",
       "    <tr>\n",
       "      <th>3</th>\n",
       "      <td>130413</td>\n",
       "      <td>32130400</td>\n",
       "      <td>Egg omelet or scrambled egg, with tomatoes, fa...</td>\n",
       "      <td>2502</td>\n",
       "      <td>Eggs and omelets</td>\n",
       "      <td>17</td>\n",
       "      <td>18</td>\n",
       "    </tr>\n",
       "    <tr>\n",
       "      <th>4</th>\n",
       "      <td>130432</td>\n",
       "      <td>31105030</td>\n",
       "      <td>Egg, whole, fried with oil</td>\n",
       "      <td>2502</td>\n",
       "      <td>Eggs and omelets</td>\n",
       "      <td>223</td>\n",
       "      <td>215</td>\n",
       "    </tr>\n",
       "  </tbody>\n",
       "</table>\n",
       "</div>"
      ],
      "text/plain": [
       "     SEQN  food_code                              food_code_description  \\\n",
       "0  130389   32131090  Egg omelet or scrambled egg, with cheese, meat...   \n",
       "1  130394   31105030                         Egg, whole, fried with oil   \n",
       "2  130397   31105090     Egg, whole, fried, from fast food / restaurant   \n",
       "3  130413   32130400  Egg omelet or scrambled egg, with tomatoes, fa...   \n",
       "4  130432   31105030                         Egg, whole, fried with oil   \n",
       "\n",
       "   category_number category_description  reports_day1  reports_day2  \n",
       "0             2502     Eggs and omelets             7             8  \n",
       "1             2502     Eggs and omelets           223           215  \n",
       "2             2502     Eggs and omelets            30            17  \n",
       "3             2502     Eggs and omelets            17            18  \n",
       "4             2502     Eggs and omelets           223           215  "
      ]
     },
     "execution_count": 71,
     "metadata": {},
     "output_type": "execute_result"
    }
   ],
   "source": [
    "# cleaning up\n",
    "\n",
    "df['food_code'] = df['food_code'].astype(int)\n",
    "df.head()"
   ]
  },
  {
   "cell_type": "markdown",
   "id": "4c51ab9a-07b7-447e-b923-a4012bc7f6db",
   "metadata": {},
   "source": [
    "**[CDC demographics data 2021-2023](https://wwwn.cdc.gov/nchs/nhanes/search/datapage.aspx?Component=Demographics&Cycle=2021-2023)**"
   ]
  },
  {
   "cell_type": "code",
   "execution_count": 72,
   "id": "0c1499a6-5b8f-46dc-88ee-d8bbb50b74e0",
   "metadata": {
    "scrolled": true
   },
   "outputs": [
    {
     "data": {
      "text/html": [
       "<div>\n",
       "<style scoped>\n",
       "    .dataframe tbody tr th:only-of-type {\n",
       "        vertical-align: middle;\n",
       "    }\n",
       "\n",
       "    .dataframe tbody tr th {\n",
       "        vertical-align: top;\n",
       "    }\n",
       "\n",
       "    .dataframe thead th {\n",
       "        text-align: right;\n",
       "    }\n",
       "</style>\n",
       "<table border=\"1\" class=\"dataframe\">\n",
       "  <thead>\n",
       "    <tr style=\"text-align: right;\">\n",
       "      <th></th>\n",
       "      <th>SEQN</th>\n",
       "      <th>SDDSRVYR</th>\n",
       "      <th>RIDSTATR</th>\n",
       "      <th>RIAGENDR</th>\n",
       "      <th>RIDAGEYR</th>\n",
       "      <th>RIDAGEMN</th>\n",
       "      <th>RIDRETH1</th>\n",
       "      <th>RIDRETH3</th>\n",
       "      <th>RIDEXMON</th>\n",
       "      <th>RIDEXAGM</th>\n",
       "      <th>...</th>\n",
       "      <th>DMDHRGND</th>\n",
       "      <th>DMDHRAGZ</th>\n",
       "      <th>DMDHREDZ</th>\n",
       "      <th>DMDHRMAZ</th>\n",
       "      <th>DMDHSEDZ</th>\n",
       "      <th>WTINT2YR</th>\n",
       "      <th>WTMEC2YR</th>\n",
       "      <th>SDMVSTRA</th>\n",
       "      <th>SDMVPSU</th>\n",
       "      <th>INDFMPIR</th>\n",
       "    </tr>\n",
       "  </thead>\n",
       "  <tbody>\n",
       "    <tr>\n",
       "      <th>0</th>\n",
       "      <td>130378.0</td>\n",
       "      <td>12.0</td>\n",
       "      <td>2.0</td>\n",
       "      <td>1.0</td>\n",
       "      <td>43.0</td>\n",
       "      <td>NaN</td>\n",
       "      <td>5.0</td>\n",
       "      <td>6.0</td>\n",
       "      <td>2.0</td>\n",
       "      <td>NaN</td>\n",
       "      <td>...</td>\n",
       "      <td>NaN</td>\n",
       "      <td>NaN</td>\n",
       "      <td>NaN</td>\n",
       "      <td>NaN</td>\n",
       "      <td>NaN</td>\n",
       "      <td>50055.450807</td>\n",
       "      <td>54374.463898</td>\n",
       "      <td>173.0</td>\n",
       "      <td>2.0</td>\n",
       "      <td>5.00</td>\n",
       "    </tr>\n",
       "    <tr>\n",
       "      <th>1</th>\n",
       "      <td>130379.0</td>\n",
       "      <td>12.0</td>\n",
       "      <td>2.0</td>\n",
       "      <td>1.0</td>\n",
       "      <td>66.0</td>\n",
       "      <td>NaN</td>\n",
       "      <td>3.0</td>\n",
       "      <td>3.0</td>\n",
       "      <td>2.0</td>\n",
       "      <td>NaN</td>\n",
       "      <td>...</td>\n",
       "      <td>NaN</td>\n",
       "      <td>NaN</td>\n",
       "      <td>NaN</td>\n",
       "      <td>NaN</td>\n",
       "      <td>NaN</td>\n",
       "      <td>29087.450605</td>\n",
       "      <td>34084.721548</td>\n",
       "      <td>173.0</td>\n",
       "      <td>2.0</td>\n",
       "      <td>5.00</td>\n",
       "    </tr>\n",
       "    <tr>\n",
       "      <th>2</th>\n",
       "      <td>130380.0</td>\n",
       "      <td>12.0</td>\n",
       "      <td>2.0</td>\n",
       "      <td>2.0</td>\n",
       "      <td>44.0</td>\n",
       "      <td>NaN</td>\n",
       "      <td>2.0</td>\n",
       "      <td>2.0</td>\n",
       "      <td>1.0</td>\n",
       "      <td>NaN</td>\n",
       "      <td>...</td>\n",
       "      <td>NaN</td>\n",
       "      <td>NaN</td>\n",
       "      <td>NaN</td>\n",
       "      <td>NaN</td>\n",
       "      <td>NaN</td>\n",
       "      <td>80062.674301</td>\n",
       "      <td>81196.277992</td>\n",
       "      <td>174.0</td>\n",
       "      <td>1.0</td>\n",
       "      <td>1.41</td>\n",
       "    </tr>\n",
       "    <tr>\n",
       "      <th>3</th>\n",
       "      <td>130381.0</td>\n",
       "      <td>12.0</td>\n",
       "      <td>2.0</td>\n",
       "      <td>2.0</td>\n",
       "      <td>5.0</td>\n",
       "      <td>NaN</td>\n",
       "      <td>5.0</td>\n",
       "      <td>7.0</td>\n",
       "      <td>1.0</td>\n",
       "      <td>71.0</td>\n",
       "      <td>...</td>\n",
       "      <td>2.0</td>\n",
       "      <td>2.0</td>\n",
       "      <td>2.0</td>\n",
       "      <td>3.0</td>\n",
       "      <td>NaN</td>\n",
       "      <td>38807.268902</td>\n",
       "      <td>55698.607106</td>\n",
       "      <td>182.0</td>\n",
       "      <td>2.0</td>\n",
       "      <td>1.53</td>\n",
       "    </tr>\n",
       "    <tr>\n",
       "      <th>4</th>\n",
       "      <td>130382.0</td>\n",
       "      <td>12.0</td>\n",
       "      <td>2.0</td>\n",
       "      <td>1.0</td>\n",
       "      <td>2.0</td>\n",
       "      <td>NaN</td>\n",
       "      <td>3.0</td>\n",
       "      <td>3.0</td>\n",
       "      <td>2.0</td>\n",
       "      <td>34.0</td>\n",
       "      <td>...</td>\n",
       "      <td>2.0</td>\n",
       "      <td>2.0</td>\n",
       "      <td>3.0</td>\n",
       "      <td>1.0</td>\n",
       "      <td>2.0</td>\n",
       "      <td>30607.519774</td>\n",
       "      <td>36434.146346</td>\n",
       "      <td>182.0</td>\n",
       "      <td>2.0</td>\n",
       "      <td>3.60</td>\n",
       "    </tr>\n",
       "  </tbody>\n",
       "</table>\n",
       "<p>5 rows × 27 columns</p>\n",
       "</div>"
      ],
      "text/plain": [
       "       SEQN  SDDSRVYR  RIDSTATR  RIAGENDR  RIDAGEYR  RIDAGEMN  RIDRETH1  \\\n",
       "0  130378.0      12.0       2.0       1.0      43.0       NaN       5.0   \n",
       "1  130379.0      12.0       2.0       1.0      66.0       NaN       3.0   \n",
       "2  130380.0      12.0       2.0       2.0      44.0       NaN       2.0   \n",
       "3  130381.0      12.0       2.0       2.0       5.0       NaN       5.0   \n",
       "4  130382.0      12.0       2.0       1.0       2.0       NaN       3.0   \n",
       "\n",
       "   RIDRETH3  RIDEXMON  RIDEXAGM  ...  DMDHRGND  DMDHRAGZ  DMDHREDZ  DMDHRMAZ  \\\n",
       "0       6.0       2.0       NaN  ...       NaN       NaN       NaN       NaN   \n",
       "1       3.0       2.0       NaN  ...       NaN       NaN       NaN       NaN   \n",
       "2       2.0       1.0       NaN  ...       NaN       NaN       NaN       NaN   \n",
       "3       7.0       1.0      71.0  ...       2.0       2.0       2.0       3.0   \n",
       "4       3.0       2.0      34.0  ...       2.0       2.0       3.0       1.0   \n",
       "\n",
       "   DMDHSEDZ      WTINT2YR      WTMEC2YR  SDMVSTRA  SDMVPSU  INDFMPIR  \n",
       "0       NaN  50055.450807  54374.463898     173.0      2.0      5.00  \n",
       "1       NaN  29087.450605  34084.721548     173.0      2.0      5.00  \n",
       "2       NaN  80062.674301  81196.277992     174.0      1.0      1.41  \n",
       "3       NaN  38807.268902  55698.607106     182.0      2.0      1.53  \n",
       "4       2.0  30607.519774  36434.146346     182.0      2.0      3.60  \n",
       "\n",
       "[5 rows x 27 columns]"
      ]
     },
     "execution_count": 72,
     "metadata": {},
     "output_type": "execute_result"
    }
   ],
   "source": [
    "# demographics data\n",
    "\n",
    "demo = pd.read_sas('docs/2021-23/DEMO_L.xpt', format='xport')\n",
    "demo.head()"
   ]
  },
  {
   "cell_type": "code",
   "execution_count": 73,
   "id": "eb6a6368-5a3a-4f41-a9ee-c7339aa630a8",
   "metadata": {},
   "outputs": [
    {
     "data": {
      "text/html": [
       "<div>\n",
       "<style scoped>\n",
       "    .dataframe tbody tr th:only-of-type {\n",
       "        vertical-align: middle;\n",
       "    }\n",
       "\n",
       "    .dataframe tbody tr th {\n",
       "        vertical-align: top;\n",
       "    }\n",
       "\n",
       "    .dataframe thead th {\n",
       "        text-align: right;\n",
       "    }\n",
       "</style>\n",
       "<table border=\"1\" class=\"dataframe\">\n",
       "  <thead>\n",
       "    <tr style=\"text-align: right;\">\n",
       "      <th></th>\n",
       "      <th>SEQN</th>\n",
       "      <th>SDDSRVYR</th>\n",
       "      <th>RIDSTATR</th>\n",
       "      <th>RIAGENDR</th>\n",
       "      <th>RIDAGEYR</th>\n",
       "      <th>RIDAGEMN</th>\n",
       "      <th>RIDRETH1</th>\n",
       "      <th>RIDRETH3</th>\n",
       "      <th>RIDEXMON</th>\n",
       "      <th>RIDEXAGM</th>\n",
       "      <th>...</th>\n",
       "      <th>DMDHRGND</th>\n",
       "      <th>DMDHRAGZ</th>\n",
       "      <th>DMDHREDZ</th>\n",
       "      <th>DMDHRMAZ</th>\n",
       "      <th>DMDHSEDZ</th>\n",
       "      <th>WTINT2YR</th>\n",
       "      <th>WTMEC2YR</th>\n",
       "      <th>SDMVSTRA</th>\n",
       "      <th>SDMVPSU</th>\n",
       "      <th>INDFMPIR</th>\n",
       "    </tr>\n",
       "  </thead>\n",
       "  <tbody>\n",
       "    <tr>\n",
       "      <th>0</th>\n",
       "      <td>130378</td>\n",
       "      <td>12.0</td>\n",
       "      <td>2.0</td>\n",
       "      <td>1.0</td>\n",
       "      <td>43.0</td>\n",
       "      <td>NaN</td>\n",
       "      <td>5.0</td>\n",
       "      <td>6.0</td>\n",
       "      <td>2.0</td>\n",
       "      <td>NaN</td>\n",
       "      <td>...</td>\n",
       "      <td>NaN</td>\n",
       "      <td>NaN</td>\n",
       "      <td>NaN</td>\n",
       "      <td>NaN</td>\n",
       "      <td>NaN</td>\n",
       "      <td>50055.450807</td>\n",
       "      <td>54374.463898</td>\n",
       "      <td>173.0</td>\n",
       "      <td>2.0</td>\n",
       "      <td>5.00</td>\n",
       "    </tr>\n",
       "    <tr>\n",
       "      <th>1</th>\n",
       "      <td>130379</td>\n",
       "      <td>12.0</td>\n",
       "      <td>2.0</td>\n",
       "      <td>1.0</td>\n",
       "      <td>66.0</td>\n",
       "      <td>NaN</td>\n",
       "      <td>3.0</td>\n",
       "      <td>3.0</td>\n",
       "      <td>2.0</td>\n",
       "      <td>NaN</td>\n",
       "      <td>...</td>\n",
       "      <td>NaN</td>\n",
       "      <td>NaN</td>\n",
       "      <td>NaN</td>\n",
       "      <td>NaN</td>\n",
       "      <td>NaN</td>\n",
       "      <td>29087.450605</td>\n",
       "      <td>34084.721548</td>\n",
       "      <td>173.0</td>\n",
       "      <td>2.0</td>\n",
       "      <td>5.00</td>\n",
       "    </tr>\n",
       "    <tr>\n",
       "      <th>2</th>\n",
       "      <td>130380</td>\n",
       "      <td>12.0</td>\n",
       "      <td>2.0</td>\n",
       "      <td>2.0</td>\n",
       "      <td>44.0</td>\n",
       "      <td>NaN</td>\n",
       "      <td>2.0</td>\n",
       "      <td>2.0</td>\n",
       "      <td>1.0</td>\n",
       "      <td>NaN</td>\n",
       "      <td>...</td>\n",
       "      <td>NaN</td>\n",
       "      <td>NaN</td>\n",
       "      <td>NaN</td>\n",
       "      <td>NaN</td>\n",
       "      <td>NaN</td>\n",
       "      <td>80062.674301</td>\n",
       "      <td>81196.277992</td>\n",
       "      <td>174.0</td>\n",
       "      <td>1.0</td>\n",
       "      <td>1.41</td>\n",
       "    </tr>\n",
       "    <tr>\n",
       "      <th>3</th>\n",
       "      <td>130381</td>\n",
       "      <td>12.0</td>\n",
       "      <td>2.0</td>\n",
       "      <td>2.0</td>\n",
       "      <td>5.0</td>\n",
       "      <td>NaN</td>\n",
       "      <td>5.0</td>\n",
       "      <td>7.0</td>\n",
       "      <td>1.0</td>\n",
       "      <td>71.0</td>\n",
       "      <td>...</td>\n",
       "      <td>2.0</td>\n",
       "      <td>2.0</td>\n",
       "      <td>2.0</td>\n",
       "      <td>3.0</td>\n",
       "      <td>NaN</td>\n",
       "      <td>38807.268902</td>\n",
       "      <td>55698.607106</td>\n",
       "      <td>182.0</td>\n",
       "      <td>2.0</td>\n",
       "      <td>1.53</td>\n",
       "    </tr>\n",
       "    <tr>\n",
       "      <th>4</th>\n",
       "      <td>130382</td>\n",
       "      <td>12.0</td>\n",
       "      <td>2.0</td>\n",
       "      <td>1.0</td>\n",
       "      <td>2.0</td>\n",
       "      <td>NaN</td>\n",
       "      <td>3.0</td>\n",
       "      <td>3.0</td>\n",
       "      <td>2.0</td>\n",
       "      <td>34.0</td>\n",
       "      <td>...</td>\n",
       "      <td>2.0</td>\n",
       "      <td>2.0</td>\n",
       "      <td>3.0</td>\n",
       "      <td>1.0</td>\n",
       "      <td>2.0</td>\n",
       "      <td>30607.519774</td>\n",
       "      <td>36434.146346</td>\n",
       "      <td>182.0</td>\n",
       "      <td>2.0</td>\n",
       "      <td>3.60</td>\n",
       "    </tr>\n",
       "  </tbody>\n",
       "</table>\n",
       "<p>5 rows × 27 columns</p>\n",
       "</div>"
      ],
      "text/plain": [
       "     SEQN  SDDSRVYR  RIDSTATR  RIAGENDR  RIDAGEYR  RIDAGEMN  RIDRETH1  \\\n",
       "0  130378      12.0       2.0       1.0      43.0       NaN       5.0   \n",
       "1  130379      12.0       2.0       1.0      66.0       NaN       3.0   \n",
       "2  130380      12.0       2.0       2.0      44.0       NaN       2.0   \n",
       "3  130381      12.0       2.0       2.0       5.0       NaN       5.0   \n",
       "4  130382      12.0       2.0       1.0       2.0       NaN       3.0   \n",
       "\n",
       "   RIDRETH3  RIDEXMON  RIDEXAGM  ...  DMDHRGND  DMDHRAGZ  DMDHREDZ  DMDHRMAZ  \\\n",
       "0       6.0       2.0       NaN  ...       NaN       NaN       NaN       NaN   \n",
       "1       3.0       2.0       NaN  ...       NaN       NaN       NaN       NaN   \n",
       "2       2.0       1.0       NaN  ...       NaN       NaN       NaN       NaN   \n",
       "3       7.0       1.0      71.0  ...       2.0       2.0       2.0       3.0   \n",
       "4       3.0       2.0      34.0  ...       2.0       2.0       3.0       1.0   \n",
       "\n",
       "   DMDHSEDZ      WTINT2YR      WTMEC2YR  SDMVSTRA  SDMVPSU  INDFMPIR  \n",
       "0       NaN  50055.450807  54374.463898     173.0      2.0      5.00  \n",
       "1       NaN  29087.450605  34084.721548     173.0      2.0      5.00  \n",
       "2       NaN  80062.674301  81196.277992     174.0      1.0      1.41  \n",
       "3       NaN  38807.268902  55698.607106     182.0      2.0      1.53  \n",
       "4       2.0  30607.519774  36434.146346     182.0      2.0      3.60  \n",
       "\n",
       "[5 rows x 27 columns]"
      ]
     },
     "execution_count": 73,
     "metadata": {},
     "output_type": "execute_result"
    }
   ],
   "source": [
    "# cleaning up\n",
    "\n",
    "demo['SEQN'] = demo['SEQN'].astype(int)\n",
    "demo.head()"
   ]
  },
  {
   "cell_type": "code",
   "execution_count": 74,
   "id": "6970157f-48e1-4187-9f7e-35c4dd9425e2",
   "metadata": {
    "scrolled": true
   },
   "outputs": [
    {
     "name": "stdout",
     "output_type": "stream",
     "text": [
      "<class 'pandas.core.frame.DataFrame'>\n",
      "RangeIndex: 11933 entries, 0 to 11932\n",
      "Data columns (total 27 columns):\n",
      " #   Column          Non-Null Count  Dtype  \n",
      "---  ------          --------------  -----  \n",
      " 0   SEQN            11933 non-null  int64  \n",
      " 1   SDDSRVYR        11933 non-null  float64\n",
      " 2   RIDSTATR        11933 non-null  float64\n",
      " 3   RIAGENDR        11933 non-null  float64\n",
      " 4   RIDAGEYR        11933 non-null  float64\n",
      " 5   RIDAGEMN        377 non-null    float64\n",
      " 6   RIDRETH1        11933 non-null  float64\n",
      " 7   RIDRETH3        11933 non-null  float64\n",
      " 8   RIDEXMON        8860 non-null   float64\n",
      " 9   RIDEXAGM        2787 non-null   float64\n",
      " 10  DMQMILIZ        8301 non-null   float64\n",
      " 11  DMDBORN4        11914 non-null  float64\n",
      " 12  DMDYRUSR        1875 non-null   float64\n",
      " 13  DMDEDUC2        7794 non-null   float64\n",
      " 14  DMDMARTZ        7792 non-null   float64\n",
      " 15  RIDEXPRG        1503 non-null   float64\n",
      " 16  DMDHHSIZ        11933 non-null  float64\n",
      " 17  DMDHRGND        4115 non-null   float64\n",
      " 18  DMDHRAGZ        4124 non-null   float64\n",
      " 19  DMDHREDZ        3746 non-null   float64\n",
      " 20  DMDHRMAZ        4020 non-null   float64\n",
      " 21  DMDHSEDZ        2127 non-null   float64\n",
      " 22  WTINT2YR        11933 non-null  float64\n",
      " 23  WTMEC2YR        11933 non-null  float64\n",
      " 24  SDMVSTRA        11933 non-null  float64\n",
      " 25  SDMVPSU         11933 non-null  float64\n",
      " 26  income_poverty  9892 non-null   float64\n",
      "dtypes: float64(26), int64(1)\n",
      "memory usage: 2.5 MB\n"
     ]
    }
   ],
   "source": [
    "# renaming the column that has the ratio of family income to poverty\n",
    "\n",
    "demo.rename(columns={\"INDFMPIR\": \"income_poverty\"}, inplace=True)\n",
    "demo.info()"
   ]
  },
  {
   "cell_type": "code",
   "execution_count": 75,
   "id": "cd8a9deb-27aa-4d90-9da1-ec7f85dff612",
   "metadata": {},
   "outputs": [
    {
     "data": {
      "text/html": [
       "<div>\n",
       "<style scoped>\n",
       "    .dataframe tbody tr th:only-of-type {\n",
       "        vertical-align: middle;\n",
       "    }\n",
       "\n",
       "    .dataframe tbody tr th {\n",
       "        vertical-align: top;\n",
       "    }\n",
       "\n",
       "    .dataframe thead th {\n",
       "        text-align: right;\n",
       "    }\n",
       "</style>\n",
       "<table border=\"1\" class=\"dataframe\">\n",
       "  <thead>\n",
       "    <tr style=\"text-align: right;\">\n",
       "      <th></th>\n",
       "      <th>SEQN</th>\n",
       "      <th>food_code</th>\n",
       "      <th>food_code_description</th>\n",
       "      <th>category_number</th>\n",
       "      <th>category_description</th>\n",
       "      <th>reports_day1</th>\n",
       "      <th>reports_day2</th>\n",
       "      <th>SDDSRVYR</th>\n",
       "      <th>RIDSTATR</th>\n",
       "      <th>RIAGENDR</th>\n",
       "      <th>...</th>\n",
       "      <th>DMDHRGND</th>\n",
       "      <th>DMDHRAGZ</th>\n",
       "      <th>DMDHREDZ</th>\n",
       "      <th>DMDHRMAZ</th>\n",
       "      <th>DMDHSEDZ</th>\n",
       "      <th>WTINT2YR</th>\n",
       "      <th>WTMEC2YR</th>\n",
       "      <th>SDMVSTRA</th>\n",
       "      <th>SDMVPSU</th>\n",
       "      <th>income_poverty</th>\n",
       "    </tr>\n",
       "  </thead>\n",
       "  <tbody>\n",
       "    <tr>\n",
       "      <th>0</th>\n",
       "      <td>130389</td>\n",
       "      <td>32131090</td>\n",
       "      <td>Egg omelet or scrambled egg, with cheese, meat...</td>\n",
       "      <td>2502</td>\n",
       "      <td>Eggs and omelets</td>\n",
       "      <td>7</td>\n",
       "      <td>8</td>\n",
       "      <td>12.0</td>\n",
       "      <td>2.0</td>\n",
       "      <td>1.0</td>\n",
       "      <td>...</td>\n",
       "      <td>NaN</td>\n",
       "      <td>NaN</td>\n",
       "      <td>NaN</td>\n",
       "      <td>NaN</td>\n",
       "      <td>NaN</td>\n",
       "      <td>28876.535038</td>\n",
       "      <td>38984.867724</td>\n",
       "      <td>174.0</td>\n",
       "      <td>2.0</td>\n",
       "      <td>5.00</td>\n",
       "    </tr>\n",
       "    <tr>\n",
       "      <th>1</th>\n",
       "      <td>130394</td>\n",
       "      <td>31105030</td>\n",
       "      <td>Egg, whole, fried with oil</td>\n",
       "      <td>2502</td>\n",
       "      <td>Eggs and omelets</td>\n",
       "      <td>223</td>\n",
       "      <td>215</td>\n",
       "      <td>12.0</td>\n",
       "      <td>2.0</td>\n",
       "      <td>1.0</td>\n",
       "      <td>...</td>\n",
       "      <td>NaN</td>\n",
       "      <td>NaN</td>\n",
       "      <td>NaN</td>\n",
       "      <td>NaN</td>\n",
       "      <td>NaN</td>\n",
       "      <td>41925.463225</td>\n",
       "      <td>51305.024430</td>\n",
       "      <td>174.0</td>\n",
       "      <td>2.0</td>\n",
       "      <td>5.00</td>\n",
       "    </tr>\n",
       "    <tr>\n",
       "      <th>2</th>\n",
       "      <td>130397</td>\n",
       "      <td>31105090</td>\n",
       "      <td>Egg, whole, fried, from fast food / restaurant</td>\n",
       "      <td>2502</td>\n",
       "      <td>Eggs and omelets</td>\n",
       "      <td>30</td>\n",
       "      <td>17</td>\n",
       "      <td>12.0</td>\n",
       "      <td>2.0</td>\n",
       "      <td>2.0</td>\n",
       "      <td>...</td>\n",
       "      <td>NaN</td>\n",
       "      <td>NaN</td>\n",
       "      <td>NaN</td>\n",
       "      <td>NaN</td>\n",
       "      <td>NaN</td>\n",
       "      <td>32394.280442</td>\n",
       "      <td>38037.401303</td>\n",
       "      <td>179.0</td>\n",
       "      <td>2.0</td>\n",
       "      <td>4.48</td>\n",
       "    </tr>\n",
       "    <tr>\n",
       "      <th>3</th>\n",
       "      <td>130413</td>\n",
       "      <td>32130400</td>\n",
       "      <td>Egg omelet or scrambled egg, with tomatoes, fa...</td>\n",
       "      <td>2502</td>\n",
       "      <td>Eggs and omelets</td>\n",
       "      <td>17</td>\n",
       "      <td>18</td>\n",
       "      <td>12.0</td>\n",
       "      <td>2.0</td>\n",
       "      <td>2.0</td>\n",
       "      <td>...</td>\n",
       "      <td>NaN</td>\n",
       "      <td>NaN</td>\n",
       "      <td>NaN</td>\n",
       "      <td>NaN</td>\n",
       "      <td>NaN</td>\n",
       "      <td>13060.495895</td>\n",
       "      <td>18187.080889</td>\n",
       "      <td>183.0</td>\n",
       "      <td>1.0</td>\n",
       "      <td>0.05</td>\n",
       "    </tr>\n",
       "    <tr>\n",
       "      <th>4</th>\n",
       "      <td>130432</td>\n",
       "      <td>31105030</td>\n",
       "      <td>Egg, whole, fried with oil</td>\n",
       "      <td>2502</td>\n",
       "      <td>Eggs and omelets</td>\n",
       "      <td>223</td>\n",
       "      <td>215</td>\n",
       "      <td>12.0</td>\n",
       "      <td>2.0</td>\n",
       "      <td>1.0</td>\n",
       "      <td>...</td>\n",
       "      <td>2.0</td>\n",
       "      <td>2.0</td>\n",
       "      <td>2.0</td>\n",
       "      <td>1.0</td>\n",
       "      <td>2.0</td>\n",
       "      <td>8812.780841</td>\n",
       "      <td>12224.674923</td>\n",
       "      <td>174.0</td>\n",
       "      <td>2.0</td>\n",
       "      <td>1.14</td>\n",
       "    </tr>\n",
       "  </tbody>\n",
       "</table>\n",
       "<p>5 rows × 33 columns</p>\n",
       "</div>"
      ],
      "text/plain": [
       "     SEQN  food_code                              food_code_description  \\\n",
       "0  130389   32131090  Egg omelet or scrambled egg, with cheese, meat...   \n",
       "1  130394   31105030                         Egg, whole, fried with oil   \n",
       "2  130397   31105090     Egg, whole, fried, from fast food / restaurant   \n",
       "3  130413   32130400  Egg omelet or scrambled egg, with tomatoes, fa...   \n",
       "4  130432   31105030                         Egg, whole, fried with oil   \n",
       "\n",
       "   category_number category_description  reports_day1  reports_day2  SDDSRVYR  \\\n",
       "0             2502     Eggs and omelets             7             8      12.0   \n",
       "1             2502     Eggs and omelets           223           215      12.0   \n",
       "2             2502     Eggs and omelets            30            17      12.0   \n",
       "3             2502     Eggs and omelets            17            18      12.0   \n",
       "4             2502     Eggs and omelets           223           215      12.0   \n",
       "\n",
       "   RIDSTATR  RIAGENDR  ...  DMDHRGND  DMDHRAGZ  DMDHREDZ  DMDHRMAZ  DMDHSEDZ  \\\n",
       "0       2.0       1.0  ...       NaN       NaN       NaN       NaN       NaN   \n",
       "1       2.0       1.0  ...       NaN       NaN       NaN       NaN       NaN   \n",
       "2       2.0       2.0  ...       NaN       NaN       NaN       NaN       NaN   \n",
       "3       2.0       2.0  ...       NaN       NaN       NaN       NaN       NaN   \n",
       "4       2.0       1.0  ...       2.0       2.0       2.0       1.0       2.0   \n",
       "\n",
       "       WTINT2YR      WTMEC2YR  SDMVSTRA  SDMVPSU  income_poverty  \n",
       "0  28876.535038  38984.867724     174.0      2.0            5.00  \n",
       "1  41925.463225  51305.024430     174.0      2.0            5.00  \n",
       "2  32394.280442  38037.401303     179.0      2.0            4.48  \n",
       "3  13060.495895  18187.080889     183.0      1.0            0.05  \n",
       "4   8812.780841  12224.674923     174.0      2.0            1.14  \n",
       "\n",
       "[5 rows x 33 columns]"
      ]
     },
     "execution_count": 75,
     "metadata": {},
     "output_type": "execute_result"
    }
   ],
   "source": [
    "df = pd.merge(df, demo, on='SEQN', how='inner')  # joining egg consumption data with demographics\n",
    "df.head()"
   ]
  },
  {
   "cell_type": "code",
   "execution_count": null,
   "id": "1f9d398f-218b-44a1-9a59-4e2827e0342c",
   "metadata": {},
   "outputs": [],
   "source": [
    "df.shape"
   ]
  },
  {
   "cell_type": "code",
   "execution_count": 76,
   "id": "11073aa4-6d1f-4ab5-89ea-c9ecdb6612bb",
   "metadata": {},
   "outputs": [
    {
     "data": {
      "text/plain": [
       "1360"
      ]
     },
     "execution_count": 76,
     "metadata": {},
     "output_type": "execute_result"
    }
   ],
   "source": [
    "df[\"SEQN\"].nunique()  # count distinct"
   ]
  },
  {
   "cell_type": "markdown",
   "id": "6d84f033-c329-4a65-8527-e470060a286c",
   "metadata": {},
   "source": [
    "**72 out 1360 participants reported more than one instance of egg consumption within the past 24 hours. That's around 5%.**"
   ]
  },
  {
   "cell_type": "code",
   "execution_count": 77,
   "id": "13501e4f-55b0-44da-b156-cb6b80f3e19b",
   "metadata": {
    "scrolled": true
   },
   "outputs": [
    {
     "name": "stdout",
     "output_type": "stream",
     "text": [
      "SEQN\n",
      "132418    3\n",
      "142025    3\n",
      "132555    3\n",
      "139587    3\n",
      "141152    3\n",
      "130547    2\n",
      "141721    2\n",
      "141579    2\n",
      "141434    2\n",
      "130500    2\n",
      "141234    2\n",
      "141230    2\n",
      "130617    2\n",
      "140928    2\n",
      "140582    2\n",
      "140175    2\n",
      "140045    2\n",
      "141884    2\n",
      "139209    2\n",
      "139139    2\n",
      "139016    2\n",
      "138902    2\n",
      "142176    2\n",
      "138826    2\n",
      "138507    2\n",
      "138395    2\n",
      "138338    2\n",
      "138140    2\n",
      "137924    2\n",
      "137503    2\n",
      "136380    2\n",
      "136239    2\n",
      "136152    2\n",
      "136051    2\n",
      "136036    2\n",
      "135987    2\n",
      "135952    2\n",
      "135540    2\n",
      "135539    2\n",
      "135470    2\n",
      "135089    2\n",
      "134894    2\n",
      "134635    2\n",
      "134429    2\n",
      "134165    2\n",
      "133919    2\n",
      "133698    2\n",
      "133607    2\n",
      "133473    2\n",
      "130811    2\n",
      "133350    2\n",
      "133325    2\n",
      "133277    2\n",
      "132893    2\n",
      "142008    2\n",
      "142075    2\n",
      "130900    2\n",
      "132368    2\n",
      "132272    2\n",
      "132201    2\n",
      "132099    2\n",
      "132038    2\n",
      "131997    2\n",
      "131912    2\n",
      "131564    2\n",
      "131556    2\n",
      "131446    2\n",
      "131389    2\n",
      "131373    2\n",
      "131353    2\n",
      "131340    2\n",
      "131258    2\n",
      "Name: count, dtype: int64\n"
     ]
    }
   ],
   "source": [
    "pd.set_option(\"display.max_rows\", 100)  # adjusting maximum output\n",
    "print(df['SEQN'].value_counts().head(72))"
   ]
  },
  {
   "cell_type": "markdown",
   "id": "5baf466d-3a6d-4b5b-992b-3da1b792417e",
   "metadata": {},
   "source": [
    "**307 out of 1360 participants fall into the richest tier, around 23%. Ratio 5 means their family income is five times or more than the poverty threshhold.**"
   ]
  },
  {
   "cell_type": "code",
   "execution_count": 159,
   "id": "defd564f-2a7b-43bf-8805-62da0126bd8b",
   "metadata": {},
   "outputs": [
    {
     "data": {
      "text/plain": [
       "307"
      ]
     },
     "execution_count": 159,
     "metadata": {},
     "output_type": "execute_result"
    }
   ],
   "source": [
    "df[df['income_poverty']== 5.00][\"SEQN\"].nunique()"
   ]
  },
  {
   "cell_type": "code",
   "execution_count": 84,
   "id": "b0faa92d-d77e-45d7-8be5-fdf85783de70",
   "metadata": {},
   "outputs": [],
   "source": [
    "df.to_excel('docs/2021-23/egg_consumption_demo.xlsx')  # saving to local"
   ]
  },
  {
   "cell_type": "markdown",
   "id": "529d00ae-b44f-4d56-a8a3-9cbfd6a1d405",
   "metadata": {},
   "source": [
    "#### Plotting with R"
   ]
  },
  {
   "cell_type": "code",
   "execution_count": 86,
   "id": "d39f9443-5b78-4639-9253-74c008be5bc2",
   "metadata": {
    "collapsed": true,
    "jupyter": {
     "outputs_hidden": true
    }
   },
   "outputs": [
    {
     "name": "stdout",
     "output_type": "stream",
     "text": [
      "--- Please select a CRAN mirror for use in this session ---\n",
      "Secure CRAN mirrors \n",
      "\n",
      " 1: 0-Cloud [https]\n",
      " 2: Australia (Canberra) [https]\n",
      " 3: Australia (Melbourne 1) [https]\n",
      " 4: Australia (Melbourne 2) [https]\n",
      " 5: Austria (Wien 1) [https]\n",
      " 6: Belgium (Brussels) [https]\n",
      " 7: Brazil (PR) [https]\n",
      " 8: Brazil (SP 1) [https]\n",
      " 9: Brazil (SP 2) [https]\n",
      "10: Bulgaria [https]\n",
      "11: Canada (MB) [https]\n",
      "12: Canada (ON 1) [https]\n",
      "13: Canada (ON 2) [https]\n",
      "14: Chile (Santiago) [https]\n",
      "15: China (Beijing 2) [https]\n",
      "16: China (Beijing 3) [https]\n",
      "17: China (Hefei) [https]\n",
      "18: China (Hong Kong) [https]\n",
      "19: China (Jinan) [https]\n",
      "20: China (Lanzhou) [https]\n",
      "21: China (Nanjing) [https]\n",
      "22: China (Shanghai 2) [https]\n",
      "23: China (Shenzhen) [https]\n",
      "24: China (Wuhan) [https]\n",
      "25: Colombia (Cali) [https]\n",
      "26: Costa Rica [https]\n",
      "27: Cyprus [https]\n",
      "28: Czech Republic [https]\n",
      "29: Denmark [https]\n",
      "30: East Asia [https]\n",
      "31: Ecuador (Cuenca) [https]\n",
      "32: France (Lyon 1) [https]\n",
      "33: France (Lyon 2) [https]\n",
      "34: France (Marseille) [https]\n",
      "35: France (Paris 1) [https]\n",
      "36: Germany (Erlangen) [https]\n",
      "37: Germany (Göttingen) [https]\n",
      "38: Germany (Leipzig) [https]\n",
      "39: Germany (Münster) [https]\n",
      "40: Greece [https]\n",
      "41: Hungary [https]\n",
      "42: Iceland [https]\n",
      "43: India (Bengaluru) [https]\n",
      "44: India (Bhubaneswar) [https]\n",
      "45: Indonesia (Banda Aceh) [https]\n",
      "46: Iran (Mashhad) [https]\n",
      "47: Italy (Milano) [https]\n",
      "48: Italy (Padua) [https]\n",
      "49: Japan (Yonezawa) [https]\n",
      "50: Korea (Gyeongsan-si) [https]\n",
      "51: Mexico (Mexico City) [https]\n",
      "52: Mexico (Texcoco) [https]\n",
      "53: Morocco [https]\n",
      "54: Netherlands (Dronten) [https]\n",
      "55: New Zealand [https]\n",
      "56: Norway [https]\n",
      "57: South Africa (Johannesburg) [https]\n",
      "58: Spain (A Coruña) [https]\n",
      "59: Spain (Madrid) [https]\n",
      "60: Sweden (Umeå) [https]\n",
      "61: Switzerland (Zurich 1) [https]\n",
      "62: Taiwan (Taipei) [https]\n",
      "63: Turkey (Denizli) [https]\n",
      "64: UK (Bristol) [https]\n",
      "65: UK (London 1) [https]\n",
      "66: USA (IA) [https]\n",
      "67: USA (MI) [https]\n",
      "68: USA (MO) [https]\n",
      "69: USA (OH) [https]\n",
      "70: USA (OR) [https]\n",
      "71: USA (PA 1) [https]\n",
      "72: USA (TN) [https]\n",
      "73: USA (UT) [https]\n",
      "74: United Arab Emirates [https]\n",
      "75: Uruguay [https]\n",
      "76: (other mirrors)\n",
      "\n"
     ]
    },
    {
     "name": "stdin",
     "output_type": "stream",
     "text": [
      "Selection:  66\n"
     ]
    },
    {
     "name": "stdout",
     "output_type": "stream",
     "text": [
      "\n",
      "The downloaded binary packages are in\n",
      "\t/var/folders/29/tm85f6r96dl6jl70q7g6h2rr0000gn/T//RtmpUcuNsv/downloaded_packages\n",
      "New names:\n",
      "• `` -> `...1`\n",
      "# A tibble: 1,437 × 34\n",
      "    ...1   SEQN food_code food_code_description                  category_number\n",
      "   <dbl>  <dbl>     <dbl> <chr>                                            <dbl>\n",
      " 1     0 130389  32131090 Egg omelet or scrambled egg, with che…            2502\n",
      " 2     1 130394  31105030 Egg, whole, fried with oil                        2502\n",
      " 3     2 130397  31105090 Egg, whole, fried, from fast food / r…            2502\n",
      " 4     3 130413  32130400 Egg omelet or scrambled egg, with tom…            2502\n",
      " 5     4 130432  31105030 Egg, whole, fried with oil                        2502\n",
      " 6     5 130437  32131100 Egg omelet or scrambled egg, with che…            2502\n",
      " 7     6 130438  31105040 Egg, whole, fried with butter                     2502\n",
      " 8     7 130444  31103010 Egg, whole, boiled or poached                     2502\n",
      " 9     8 130453  31105060 Egg, whole, fried with animal fat or …            2502\n",
      "10     9 130471  33001010 Egg substitute, omelet, scrambled, or…            2502\n",
      "# ℹ 1,427 more rows\n",
      "# ℹ 29 more variables: category_description <chr>, reports_day1 <dbl>,\n",
      "#   reports_day2 <dbl>, SDDSRVYR <dbl>, RIDSTATR <dbl>, RIAGENDR <dbl>,\n",
      "#   RIDAGEYR <dbl>, RIDAGEMN <dbl>, RIDRETH1 <dbl>, RIDRETH3 <dbl>,\n",
      "#   RIDEXMON <dbl>, RIDEXAGM <dbl>, DMQMILIZ <dbl>, DMDBORN4 <dbl>,\n",
      "#   DMDYRUSR <dbl>, DMDEDUC2 <dbl>, DMDMARTZ <dbl>, RIDEXPRG <dbl>,\n",
      "#   DMDHHSIZ <dbl>, DMDHRGND <dbl>, DMDHRAGZ <dbl>, DMDHREDZ <dbl>, …\n",
      "# ℹ Use `print(n = ...)` to see more rows\n"
     ]
    },
    {
     "data": {
      "text/plain": [
       "trying URL 'https://mirror.las.iastate.edu/CRAN/bin/macosx/big-sur-x86_64/contrib/4.4/readxl_1.4.3.tgz'\n",
       "Content type 'application/x-gzip' length 1546139 bytes (1.5 MB)\n",
       "==================================================\n",
       "downloaded 1.5 MB\n",
       "\n",
       "In addition: Warning message:\n",
       "In doTryCatch(return(expr), name, parentenv, handler) :\n",
       "  unable to load shared object '/Library/Frameworks/R.framework/Resources/modules//R_X11.so':\n",
       "  dlopen(/Library/Frameworks/R.framework/Resources/modules//R_X11.so, 0x0006): Library not loaded: /opt/X11/lib/libSM.6.dylib\n",
       "  Referenced from: <C6365313-5F01-3EA4-B926-337F8DDD9E19> /Library/Frameworks/R.framework/Versions/4.4-x86_64/Resources/modules/R_X11.so\n",
       "  Reason: tried: '/opt/X11/lib/libSM.6.dylib' (no such file), '/System/Volumes/Preboot/Cryptexes/OS/opt/X11/lib/libSM.6.dylib' (no such file), '/opt/X11/lib/libSM.6.dylib' (no such file), '/usr/local/lib/libSM.6.dylib' (no such file), '/usr/lib/libSM.6.dylib' (no such file, not in dyld cache)\n"
      ]
     },
     "metadata": {},
     "output_type": "display_data"
    }
   ],
   "source": [
    "%%R\n",
    "install.packages(\"readxl\")  # Install once"
   ]
  },
  {
   "cell_type": "code",
   "execution_count": 87,
   "id": "312170fc-07a7-4866-b3a2-bdb6ec3b0f17",
   "metadata": {},
   "outputs": [],
   "source": [
    "%%R\n",
    "\n",
    "library(readxl)"
   ]
  },
  {
   "cell_type": "code",
   "execution_count": 88,
   "id": "4d29ee57-7267-4ef9-900c-975546637867",
   "metadata": {},
   "outputs": [
    {
     "name": "stdout",
     "output_type": "stream",
     "text": [
      "New names:\n",
      "• `` -> `...1`\n",
      "# A tibble: 1,437 × 34\n",
      "    ...1   SEQN food_code food_code_description                  category_number\n",
      "   <dbl>  <dbl>     <dbl> <chr>                                            <dbl>\n",
      " 1     0 130389  32131090 Egg omelet or scrambled egg, with che…            2502\n",
      " 2     1 130394  31105030 Egg, whole, fried with oil                        2502\n",
      " 3     2 130397  31105090 Egg, whole, fried, from fast food / r…            2502\n",
      " 4     3 130413  32130400 Egg omelet or scrambled egg, with tom…            2502\n",
      " 5     4 130432  31105030 Egg, whole, fried with oil                        2502\n",
      " 6     5 130437  32131100 Egg omelet or scrambled egg, with che…            2502\n",
      " 7     6 130438  31105040 Egg, whole, fried with butter                     2502\n",
      " 8     7 130444  31103010 Egg, whole, boiled or poached                     2502\n",
      " 9     8 130453  31105060 Egg, whole, fried with animal fat or …            2502\n",
      "10     9 130471  33001010 Egg substitute, omelet, scrambled, or…            2502\n",
      "# ℹ 1,427 more rows\n",
      "# ℹ 29 more variables: category_description <chr>, reports_day1 <dbl>,\n",
      "#   reports_day2 <dbl>, SDDSRVYR <dbl>, RIDSTATR <dbl>, RIAGENDR <dbl>,\n",
      "#   RIDAGEYR <dbl>, RIDAGEMN <dbl>, RIDRETH1 <dbl>, RIDRETH3 <dbl>,\n",
      "#   RIDEXMON <dbl>, RIDEXAGM <dbl>, DMQMILIZ <dbl>, DMDBORN4 <dbl>,\n",
      "#   DMDYRUSR <dbl>, DMDEDUC2 <dbl>, DMDMARTZ <dbl>, RIDEXPRG <dbl>,\n",
      "#   DMDHHSIZ <dbl>, DMDHRGND <dbl>, DMDHRAGZ <dbl>, DMDHREDZ <dbl>, …\n",
      "# ℹ Use `print(n = ...)` to see more rows\n"
     ]
    }
   ],
   "source": [
    "%%R\n",
    "\n",
    "df <- read_excel('docs/2021-23/egg_consumption_demo.xlsx')\n",
    "df"
   ]
  },
  {
   "cell_type": "markdown",
   "id": "e8e2459d-8d02-469a-8bd4-6585e2ba8367",
   "metadata": {},
   "source": [
    "**There are 167 rows out of 1437 missing `income_poverty`, around 12%**"
   ]
  },
  {
   "cell_type": "code",
   "execution_count": 284,
   "id": "91655cf8-a55f-493d-a0ab-3adfd4076ba9",
   "metadata": {},
   "outputs": [],
   "source": [
    "%%R\n",
    "\n",
    "plot2123 = ggplot(df) +\n",
    "    aes(x=income_poverty) +\n",
    "    geom_histogram(binwidth=0.35, aes(fill = ifelse(income_poverty >= 4.75, \"Highlight\", \"Fade\"))) +\n",
    "    scale_fill_manual(values = c(\"Highlight\" = \"#D5B185\", \"Fade\" = \"#F4E1C9\")) +\n",
    "    theme_minimal() +\n",
    "    theme(\n",
    "        panel.grid.major.x = element_blank(),\n",
    "        panel.grid.minor.x = element_blank(),\n",
    "        #panel.grid.minor.y = element_blank()\n",
    "        legend.position = 'None'\n",
    "    ) +\n",
    "    labs(\n",
    "        x = \"ratio of family income to poverty\",\n",
    "        title = \"Are eggs luxuries?\", \n",
    "        subtitle = \"People with family incomes at least five times the poverty threshold consumed more eggs, \n",
    "2021-2023 CDC survey shows.\", \n",
    "        caption = \"Source: National Health and Nutrition Examination Survey\"\n",
    "    )"
   ]
  },
  {
   "cell_type": "code",
   "execution_count": 285,
   "id": "ebf09dce-59cc-47d6-918f-113cb48dd16b",
   "metadata": {},
   "outputs": [
    {
     "data": {
      "text/plain": [
       "In addition: Warning message:\n",
       "Removed 167 rows containing non-finite outside the scale range (`stat_bin()`). \n"
      ]
     },
     "metadata": {},
     "output_type": "display_data"
    }
   ],
   "source": [
    "%%R\n",
    "\n",
    "ggsave(\"docs/2021-23/my_plot.svg\", plot = plot2123, width = 8, height = 6, dpi = 300)"
   ]
  },
  {
   "cell_type": "markdown",
   "id": "f3e3d6bd-7188-4024-9e24-65dbb968c2c7",
   "metadata": {},
   "source": [
    "### 2017-2018 National Health and Nutrition Examination Survey"
   ]
  },
  {
   "cell_type": "code",
   "execution_count": 146,
   "id": "b837d7df-8156-4037-97ca-c563337198e0",
   "metadata": {},
   "outputs": [],
   "source": [
    "dff = pd.read_sas('docs/2017-18/DR1IFF_J.xpt', format='xport')  # dietary survey"
   ]
  },
  {
   "cell_type": "code",
   "execution_count": 147,
   "id": "d920152f-4a61-4d62-ba9e-cd5e2e5f8cca",
   "metadata": {},
   "outputs": [],
   "source": [
    "dff.rename(columns={\"DR1IFDCD\": \"food_code\"}, inplace=True)"
   ]
  },
  {
   "cell_type": "code",
   "execution_count": 148,
   "id": "754fa821-0afe-4ef0-96a7-3362b56d5343",
   "metadata": {},
   "outputs": [],
   "source": [
    "dff['SEQN'] = dff['SEQN'].astype(int)  # cleaning up"
   ]
  },
  {
   "cell_type": "code",
   "execution_count": 149,
   "id": "7fbe4a4b-c45e-4fba-b3bf-c0ed5c1674f1",
   "metadata": {
    "scrolled": true
   },
   "outputs": [],
   "source": [
    "dff = pd.merge(dff, egg, on='food_code', how='inner')  # filter for eggs"
   ]
  },
  {
   "cell_type": "code",
   "execution_count": 150,
   "id": "d7153409-f09a-4680-b7a6-e5db324adce9",
   "metadata": {},
   "outputs": [],
   "source": [
    "demomo = pd.read_sas('docs/2017-18/DEMO_J.xpt', format='xport')  # demographics"
   ]
  },
  {
   "cell_type": "code",
   "execution_count": 151,
   "id": "7e6a8f85-dced-42e1-a163-431c204ced27",
   "metadata": {},
   "outputs": [],
   "source": [
    "demomo.rename(columns={\"INDFMPIR\": \"income_poverty\"}, inplace=True)"
   ]
  },
  {
   "cell_type": "code",
   "execution_count": 155,
   "id": "4c4bcbd7-225e-48f6-aaf1-378f005a63af",
   "metadata": {},
   "outputs": [],
   "source": [
    "dff = pd.merge(dff, demomo, on='SEQN', how='inner')  # joining egg consumption data with demographics"
   ]
  },
  {
   "cell_type": "code",
   "execution_count": 156,
   "id": "d911dd98-887e-41a1-bdf4-00133a8874ef",
   "metadata": {},
   "outputs": [
    {
     "data": {
      "text/plain": [
       "1557"
      ]
     },
     "execution_count": 156,
     "metadata": {},
     "output_type": "execute_result"
    }
   ],
   "source": [
    "dff[\"SEQN\"].nunique()  # count distinct"
   ]
  },
  {
   "cell_type": "markdown",
   "id": "52866032-9b15-4e33-bd84-d3122dfde1fb",
   "metadata": {},
   "source": [
    "**249 out of 1557 egg-eating participants are in the richest tier, around 16%**"
   ]
  },
  {
   "cell_type": "code",
   "execution_count": 158,
   "id": "3e528f49-e910-46f5-a48b-8d5021c37d09",
   "metadata": {},
   "outputs": [
    {
     "data": {
      "text/plain": [
       "249"
      ]
     },
     "execution_count": 158,
     "metadata": {},
     "output_type": "execute_result"
    }
   ],
   "source": [
    "dff[dff['income_poverty']== 5.00][\"SEQN\"].nunique()"
   ]
  },
  {
   "cell_type": "markdown",
   "id": "2e4fe9aa-dbfa-4f43-9a83-86f29339f44f",
   "metadata": {},
   "source": [
    "**119 out of 1557 participants reported more than one instance of egg consumption, around 8%**"
   ]
  },
  {
   "cell_type": "code",
   "execution_count": 178,
   "id": "5bd2d7b6-a00a-4a12-9567-fa347be7a081",
   "metadata": {
    "collapsed": true,
    "jupyter": {
     "outputs_hidden": true
    },
    "scrolled": true
   },
   "outputs": [
    {
     "name": "stdout",
     "output_type": "stream",
     "text": [
      "SEQN\n",
      "97738     4\n",
      "95839     3\n",
      "98416     3\n",
      "102595    2\n",
      "93741     2\n",
      "102492    2\n",
      "102361    2\n",
      "102311    2\n",
      "102258    2\n",
      "102145    2\n",
      "102044    2\n",
      "102041    2\n",
      "102000    2\n",
      "101836    2\n",
      "101789    2\n",
      "101756    2\n",
      "101726    2\n",
      "101687    2\n",
      "101636    2\n",
      "101553    2\n",
      "101478    2\n",
      "101378    2\n",
      "101241    2\n",
      "101179    2\n",
      "101003    2\n",
      "100986    2\n",
      "100876    2\n",
      "100746    2\n",
      "100725    2\n",
      "100704    2\n",
      "102819    2\n",
      "100619    2\n",
      "100525    2\n",
      "100448    2\n",
      "100368    2\n",
      "100318    2\n",
      "100305    2\n",
      "100055    2\n",
      "99924     2\n",
      "99825     2\n",
      "99790     2\n",
      "99679     2\n",
      "99548     2\n",
      "99444     2\n",
      "99248     2\n",
      "99219     2\n",
      "102895    2\n",
      "99157     2\n",
      "99120     2\n",
      "99088     2\n",
      "99060     2\n",
      "99008     2\n",
      "98916     2\n",
      "98845     2\n",
      "98743     2\n",
      "98714     2\n",
      "93965     2\n",
      "98597     2\n",
      "98588     2\n",
      "98491     2\n",
      "102625    2\n",
      "98413     2\n",
      "98407     2\n",
      "98091     2\n",
      "98062     2\n",
      "97866     2\n",
      "97830     2\n",
      "97813     2\n",
      "97809     2\n",
      "102628    2\n",
      "97610     2\n",
      "97595     2\n",
      "94041     2\n",
      "97573     2\n",
      "97437     2\n",
      "97367     2\n",
      "97359     2\n",
      "97349     2\n",
      "97336     2\n",
      "97216     2\n",
      "97094     2\n",
      "97055     2\n",
      "96990     2\n",
      "96931     2\n",
      "96922     2\n",
      "94157     2\n",
      "96911     2\n",
      "96893     2\n",
      "96795     2\n",
      "96739     2\n",
      "96592     2\n",
      "96511     2\n",
      "96483     2\n",
      "96474     2\n",
      "96256     2\n",
      "96207     2\n",
      "96156     2\n",
      "96031     2\n",
      "96003     2\n",
      "95910     2\n",
      "95902     2\n",
      "95884     2\n",
      "95848     2\n",
      "102682    2\n",
      "95792     2\n",
      "95743     2\n",
      "95668     2\n",
      "95639     2\n",
      "95573     2\n",
      "95572     2\n",
      "95479     2\n",
      "95330     2\n",
      "95296     2\n",
      "95247     2\n",
      "95027     2\n",
      "94812     2\n",
      "94795     2\n",
      "94668     2\n",
      "94609     2\n",
      "Name: count, dtype: int64\n"
     ]
    }
   ],
   "source": [
    "pd.set_option(\"display.max_rows\", 130)  # adjusting maximum output\n",
    "print(dff['SEQN'].value_counts().head(119))"
   ]
  },
  {
   "cell_type": "code",
   "execution_count": 163,
   "id": "cd0063e2-70a2-41b4-9e73-9d753135313d",
   "metadata": {},
   "outputs": [],
   "source": [
    "dff.to_excel('docs/2017-18/egg_consumption_demo.xlsx')  # saving to local file"
   ]
  },
  {
   "cell_type": "markdown",
   "id": "2ee0e222-6b83-4fd8-931a-e334d117487a",
   "metadata": {},
   "source": [
    "#### Plotting with R"
   ]
  },
  {
   "cell_type": "code",
   "execution_count": 164,
   "id": "3513ba16-f757-4193-b2f6-c75b05d56c79",
   "metadata": {
    "collapsed": true,
    "jupyter": {
     "outputs_hidden": true
    }
   },
   "outputs": [
    {
     "name": "stdout",
     "output_type": "stream",
     "text": [
      "New names:\n",
      "• `` -> `...1`\n",
      "# A tibble: 1,680 × 225\n",
      "    ...1  SEQN  WTDRD1  WTDR2D DR1ILINE DR1DRSTZ DR1EXMER DRABF DRDINT DR1DBIH\n",
      "   <dbl> <dbl>   <dbl>   <dbl>    <dbl>    <dbl>    <dbl> <dbl>  <dbl>   <dbl>\n",
      " 1     0 93707  15334.  22707.        1        1       81     2      2      14\n",
      " 2     1 93710   8616.   7185.        3        1       14     2      2      16\n",
      " 3     2 93711   9098.   8230.        7        1       86     2      2      13\n",
      " 4     3 93714   9694.   7808.        4        1       14     2      2       5\n",
      " 5     4 93715   7365.   6025.        8        1       86     2      2      11\n",
      " 6     5 93721   7875.   6711.        1        1       49     2      2      16\n",
      " 7     6 93723 138718. 272916.       12        1       73     2      2       5\n",
      " 8     7 93726   3238.   2759.        1        1       81     2      2       3\n",
      " 9     8 93727  42662.  44346.        6        1       73     2      2      34\n",
      "10     9 93729  11899.   9784.        4        1       81     2      2      30\n",
      "# ℹ 1,670 more rows\n",
      "# ℹ 215 more variables: DR1DAY <dbl>, DR1LANG <dbl>, DR1CCMNM <dbl>,\n",
      "#   DR1CCMTX <dbl>, DR1_020 <dbl>, DR1_030Z <dbl>, DR1FS <dbl>, DR1_040Z <dbl>,\n",
      "#   food_code <dbl>, DR1IGRMS <dbl>, DR1IKCAL <dbl>, DR1IPROT <dbl>,\n",
      "#   DR1ICARB <dbl>, DR1ISUGR <dbl>, DR1IFIBE <dbl>, DR1ITFAT <dbl>,\n",
      "#   DR1ISFAT <dbl>, DR1IMFAT <dbl>, DR1IPFAT <dbl>, DR1ICHOL <dbl>,\n",
      "#   DR1IATOC <dbl>, DR1IATOA <dbl>, DR1IRET <dbl>, DR1IVARA <dbl>, …\n",
      "# ℹ Use `print(n = ...)` to see more rows, and `colnames()` to see all variable names\n"
     ]
    }
   ],
   "source": [
    "%%R\n",
    "\n",
    "dff <- read_excel('docs/2017-18/egg_consumption_demo.xlsx')\n",
    "dff"
   ]
  },
  {
   "cell_type": "code",
   "execution_count": 282,
   "id": "07b2d168-b5ba-47e4-bb2e-2a95260fb6ae",
   "metadata": {},
   "outputs": [],
   "source": [
    "%%R\n",
    "\n",
    "plot1718 = ggplot(dff) +\n",
    "    aes(x=income_poverty) +\n",
    "    geom_histogram(binwidth=0.35, aes(fill = ifelse(income_poverty >= 4.7, \"Highlight\", \"Fade\"))) +\n",
    "    scale_fill_manual(values = c(\"Highlight\" = \"#D5B185\", \"Fade\" = \"#F4E1C9\")) +\n",
    "    theme_minimal() +\n",
    "    theme(\n",
    "        panel.grid.major.x = element_blank(),\n",
    "        panel.grid.minor.x = element_blank(),\n",
    "        #panel.grid.minor.y = element_blank()\n",
    "        legend.position = 'None'\n",
    "    ) +\n",
    "    labs(\n",
    "        x = \"ratio of family income to poverty\",\n",
    "        title = \"Are eggs luxuries?\", \n",
    "        subtitle = \"People with family incomes at least five times the poverty threshold consumed more eggs, \n",
    "2017-2018 CDC survey shows.\", \n",
    "        caption = \"Source: National Health and Nutrition Examination Survey\"\n",
    "    )"
   ]
  },
  {
   "cell_type": "code",
   "execution_count": 283,
   "id": "10c88cb5-cf21-4e72-a029-6f7fd6adc71c",
   "metadata": {},
   "outputs": [
    {
     "data": {
      "text/plain": [
       "In addition: Warning message:\n",
       "Removed 196 rows containing non-finite outside the scale range (`stat_bin()`). \n"
      ]
     },
     "metadata": {},
     "output_type": "display_data"
    }
   ],
   "source": [
    "%%R\n",
    "\n",
    "ggsave(\"docs/2017-18/my_plot.svg\", plot = plot1718, width = 8, height = 6, dpi = 300)"
   ]
  },
  {
   "cell_type": "markdown",
   "id": "acec346b-74f4-45a8-8d96-a6ad1186874e",
   "metadata": {},
   "source": [
    "### 2015-2016 National Health and Nutrition Examination Survey"
   ]
  },
  {
   "cell_type": "code",
   "execution_count": 180,
   "id": "f8f4eb7c-812f-4b8c-9809-c62cf25eb23b",
   "metadata": {},
   "outputs": [],
   "source": [
    "dfff = pd.read_sas('docs/2015-16/DR1IFF_I.xpt', format='xport')  # dietary survey"
   ]
  },
  {
   "cell_type": "code",
   "execution_count": 181,
   "id": "029de539-7211-462d-8476-a203f145f4e8",
   "metadata": {},
   "outputs": [],
   "source": [
    "dfff.rename(columns={\"DR1IFDCD\": \"food_code\"}, inplace=True)"
   ]
  },
  {
   "cell_type": "code",
   "execution_count": 182,
   "id": "a7bdcfeb-859e-4ae3-875e-520313e3bf7c",
   "metadata": {},
   "outputs": [],
   "source": [
    "dfff['SEQN'] = dfff['SEQN'].astype(int)  # cleaning up"
   ]
  },
  {
   "cell_type": "code",
   "execution_count": 183,
   "id": "0932b790-56d9-4260-a3f5-6b6d43862af2",
   "metadata": {
    "scrolled": true
   },
   "outputs": [],
   "source": [
    "dfff = pd.merge(dfff, egg, on='food_code', how='inner')  # filter for eggs"
   ]
  },
  {
   "cell_type": "code",
   "execution_count": 184,
   "id": "92d7ead1-5416-4ec4-8683-5f9c4d56cf1b",
   "metadata": {},
   "outputs": [],
   "source": [
    "demomomo = pd.read_sas('docs/2015-16/DEMO_I.xpt', format='xport')  # demographics"
   ]
  },
  {
   "cell_type": "code",
   "execution_count": 185,
   "id": "46cb1fd9-8503-4799-bfba-66eb41d2822f",
   "metadata": {},
   "outputs": [],
   "source": [
    "demomomo.rename(columns={\"INDFMPIR\": \"income_poverty\"}, inplace=True)"
   ]
  },
  {
   "cell_type": "code",
   "execution_count": 186,
   "id": "ae2dfa39-154a-469b-9044-5507b6496c2d",
   "metadata": {},
   "outputs": [],
   "source": [
    "dfff = pd.merge(dfff, demomomo, on='SEQN', how='inner')  # joining egg consumption data with demographics"
   ]
  },
  {
   "cell_type": "code",
   "execution_count": 187,
   "id": "40907401-59af-4665-a35d-14d85683c4de",
   "metadata": {},
   "outputs": [
    {
     "data": {
      "text/plain": [
       "1647"
      ]
     },
     "execution_count": 187,
     "metadata": {},
     "output_type": "execute_result"
    }
   ],
   "source": [
    "dfff[\"SEQN\"].nunique()  # count distinct"
   ]
  },
  {
   "cell_type": "markdown",
   "id": "20c254e0-9375-4add-b68f-e1df1eff38c7",
   "metadata": {},
   "source": [
    "**231 out of 1647 egg-eating participants fell into the richest tier, around 15%**"
   ]
  },
  {
   "cell_type": "code",
   "execution_count": 260,
   "id": "b693cfb8-f175-4df2-ba92-4749c64bfe3c",
   "metadata": {},
   "outputs": [
    {
     "data": {
      "text/plain": [
       "253"
      ]
     },
     "execution_count": 260,
     "metadata": {},
     "output_type": "execute_result"
    }
   ],
   "source": [
    "dfff[dfff['income_poverty']>= 4.75][\"SEQN\"].nunique()"
   ]
  },
  {
   "cell_type": "markdown",
   "id": "ad2fefd4-dcf1-4b63-88ed-7a698872f76c",
   "metadata": {},
   "source": [
    "**98 out of 1647 egg-eating participants reported more than one instance of egg consumption, around 6%**"
   ]
  },
  {
   "cell_type": "code",
   "execution_count": 191,
   "id": "32ac5f00-7e51-469c-83b5-b53a2ee8e0d0",
   "metadata": {
    "collapsed": true,
    "jupyter": {
     "outputs_hidden": true
    },
    "scrolled": true
   },
   "outputs": [
    {
     "name": "stdout",
     "output_type": "stream",
     "text": [
      "SEQN\n",
      "90845    4\n",
      "84763    3\n",
      "93328    3\n",
      "85158    3\n",
      "85382    3\n",
      "89307    3\n",
      "91915    3\n",
      "91946    3\n",
      "92735    3\n",
      "83777    2\n",
      "92866    2\n",
      "92907    2\n",
      "92622    2\n",
      "83804    2\n",
      "92618    2\n",
      "92588    2\n",
      "92247    2\n",
      "93550    2\n",
      "92175    2\n",
      "92123    2\n",
      "93176    2\n",
      "93565    2\n",
      "91922    2\n",
      "91918    2\n",
      "93185    2\n",
      "91879    2\n",
      "91779    2\n",
      "91761    2\n",
      "91492    2\n",
      "91484    2\n",
      "91356    2\n",
      "91288    2\n",
      "91247    2\n",
      "91110    2\n",
      "91096    2\n",
      "90856    2\n",
      "93224    2\n",
      "90797    2\n",
      "90793    2\n",
      "90654    2\n",
      "93633    2\n",
      "90610    2\n",
      "90495    2\n",
      "90487    2\n",
      "90249    2\n",
      "90219    2\n",
      "90186    2\n",
      "90096    2\n",
      "90086    2\n",
      "90045    2\n",
      "83979    2\n",
      "89980    2\n",
      "89893    2\n",
      "89380    2\n",
      "83869    2\n",
      "89053    2\n",
      "88988    2\n",
      "88966    2\n",
      "88772    2\n",
      "84015    2\n",
      "88632    2\n",
      "88502    2\n",
      "88316    2\n",
      "88114    2\n",
      "88041    2\n",
      "88016    2\n",
      "87808    2\n",
      "84063    2\n",
      "87782    2\n",
      "87777    2\n",
      "87446    2\n",
      "87292    2\n",
      "86552    2\n",
      "86438    2\n",
      "86376    2\n",
      "86347    2\n",
      "86241    2\n",
      "86041    2\n",
      "85828    2\n",
      "85760    2\n",
      "85724    2\n",
      "85503    2\n",
      "85448    2\n",
      "85396    2\n",
      "83881    2\n",
      "85380    2\n",
      "85348    2\n",
      "83942    2\n",
      "85146    2\n",
      "85003    2\n",
      "84935    2\n",
      "84809    2\n",
      "93365    2\n",
      "84737    2\n",
      "84594    2\n",
      "84464    2\n",
      "84375    2\n",
      "84363    2\n",
      "Name: count, dtype: int64\n"
     ]
    }
   ],
   "source": [
    "pd.set_option(\"display.max_rows\", 100)  # adjusting maximum output\n",
    "print(dfff['SEQN'].value_counts().head(98))"
   ]
  },
  {
   "cell_type": "code",
   "execution_count": 192,
   "id": "9e9eeefc-0cdd-41e9-a0b8-b0080b67f052",
   "metadata": {},
   "outputs": [],
   "source": [
    "dfff.to_excel('docs/2015-16/egg_consumption_demo.xlsx')  # saving to local file"
   ]
  },
  {
   "cell_type": "markdown",
   "id": "ca6f79fa-43ee-49c8-a80d-b46d525882e7",
   "metadata": {},
   "source": [
    "#### Plotting with R"
   ]
  },
  {
   "cell_type": "code",
   "execution_count": 194,
   "id": "4b320336-8689-4acd-a34d-5c2a313d3a8a",
   "metadata": {
    "collapsed": true,
    "jupyter": {
     "outputs_hidden": true
    }
   },
   "outputs": [
    {
     "name": "stdout",
     "output_type": "stream",
     "text": [
      "New names:\n",
      "• `` -> `...1`\n",
      "# A tibble: 1,755 × 136\n",
      "    ...1  SEQN  WTDRD1   WTDR2D DR1ILINE DR1DRSTZ DR1EXMER DRABF DRDINT DR1DBIH\n",
      "   <dbl> <dbl>   <dbl>    <dbl>    <dbl>    <dbl>    <dbl> <dbl>  <dbl>   <dbl>\n",
      " 1     0 83734   6530. 4.93e+ 3        1        1       14     2      2       6\n",
      " 2     1 83739  33678. 2.79e+ 4        1        1       49     2      2       1\n",
      " 3     2 83742  16409. 1.44e+ 4        3        1       61     2      2      17\n",
      " 4     3 83744  39927. 4.28e+ 4        1        1       61     2      2       8\n",
      " 5     4 83745  53068. 7.11e+ 4        2        1       73     2      2       4\n",
      " 6     5 83756  34041. 2.87e+ 4        2        1       22     2      2      24\n",
      " 7     6 83759  13254. 1.19e+ 4        2        1       61     2      2      16\n",
      " 8     7 83761  15324. 1.27e+ 4       12        1       14     2      2      22\n",
      " 9     8 83766 104379. 5.40e-79        4        1       61     2      1       6\n",
      "10     9 83767  17517. 1.41e+ 4       12        1       63     2      2      13\n",
      "# ℹ 1,745 more rows\n",
      "# ℹ 126 more variables: DR1DAY <dbl>, DR1LANG <dbl>, DR1CCMNM <dbl>,\n",
      "#   DR1CCMTX <dbl>, DR1_020 <dbl>, DR1_030Z <dbl>, DR1FS <dbl>, DR1_040Z <dbl>,\n",
      "#   food_code <dbl>, DR1IGRMS <dbl>, DR1IKCAL <dbl>, DR1IPROT <dbl>,\n",
      "#   DR1ICARB <dbl>, DR1ISUGR <dbl>, DR1IFIBE <dbl>, DR1ITFAT <dbl>,\n",
      "#   DR1ISFAT <dbl>, DR1IMFAT <dbl>, DR1IPFAT <dbl>, DR1ICHOL <dbl>,\n",
      "#   DR1IATOC <dbl>, DR1IATOA <dbl>, DR1IRET <dbl>, DR1IVARA <dbl>, …\n",
      "# ℹ Use `print(n = ...)` to see more rows, and `colnames()` to see all variable names\n"
     ]
    }
   ],
   "source": [
    "%%R\n",
    "\n",
    "dfff <- read_excel('docs/2015-16/egg_consumption_demo.xlsx')\n",
    "dfff"
   ]
  },
  {
   "cell_type": "code",
   "execution_count": 279,
   "id": "dace928c-496b-4a40-9a00-3b7d944e5a09",
   "metadata": {},
   "outputs": [],
   "source": [
    "%%R\n",
    "\n",
    "plot1516 = ggplot(dfff) +\n",
    "    aes(x=income_poverty) +\n",
    "    geom_histogram(binwidth=0.35, aes(fill = ifelse(income_poverty >= 4.75, \"Highlight\", \"Fade\"))) +\n",
    "    scale_fill_manual(values = c(\"Highlight\" = \"#D5B185\", \"Fade\" = \"#F4E1C9\")) +\n",
    "    theme_minimal() +\n",
    "    theme(\n",
    "        panel.grid.major.x = element_blank(),\n",
    "        panel.grid.minor.x = element_blank(),\n",
    "        #panel.grid.minor.y = element_blank()\n",
    "        legend.position = 'None'\n",
    "    ) +\n",
    "    labs(\n",
    "        x = \"ratio of family income to poverty\",\n",
    "        title = \"Are eggs luxuries?\", \n",
    "        subtitle = \"People with family incomes at least five times the poverty threshold consumed more eggs, \n",
    "2015-2016 CDC survey shows.\", \n",
    "        caption = \"Source: National Health and Nutrition Examination Survey\"\n",
    "    )"
   ]
  },
  {
   "cell_type": "code",
   "execution_count": 280,
   "id": "278dc9a9-dbfe-4bfb-8614-a4e73cc18aad",
   "metadata": {},
   "outputs": [
    {
     "data": {
      "text/plain": [
       "In addition: Warning message:\n",
       "Removed 160 rows containing non-finite outside the scale range (`stat_bin()`). \n"
      ]
     },
     "metadata": {},
     "output_type": "display_data"
    }
   ],
   "source": [
    "%%R\n",
    "\n",
    "ggsave(\"docs/2015-16/my_plot.svg\", plot = plot1516, width = 8, height = 6, dpi = 300)"
   ]
  },
  {
   "cell_type": "markdown",
   "id": "8c4c1ae4-6e73-433b-9d63-e193d7910be9",
   "metadata": {},
   "source": [
    "### 2013-2014 National Health and Nutrition Examination Survey"
   ]
  },
  {
   "cell_type": "code",
   "execution_count": 207,
   "id": "df09f236-0dda-44a4-9107-2a7c49765488",
   "metadata": {},
   "outputs": [],
   "source": [
    "df1314 = pd.read_sas('docs/2013-14/DR1IFF_H.xpt', format='xport')  # dietary survey"
   ]
  },
  {
   "cell_type": "code",
   "execution_count": 208,
   "id": "7dfc5795-a75f-4ff3-a60a-531afa761741",
   "metadata": {},
   "outputs": [],
   "source": [
    "df1314.rename(columns={\"DR1IFDCD\": \"food_code\"}, inplace=True)"
   ]
  },
  {
   "cell_type": "code",
   "execution_count": 209,
   "id": "c7106ca6-cdf7-4704-a8a8-664ba3b1d345",
   "metadata": {},
   "outputs": [],
   "source": [
    "df1314['SEQN'] = df1314['SEQN'].astype(int)  # cleaning up"
   ]
  },
  {
   "cell_type": "code",
   "execution_count": 210,
   "id": "971a0576-9263-4997-bed9-28f2ca472ee1",
   "metadata": {},
   "outputs": [],
   "source": [
    "df1314 = pd.merge(df1314, egg, on='food_code', how='inner')  # filter for eggs"
   ]
  },
  {
   "cell_type": "code",
   "execution_count": 211,
   "id": "cd5047fe-faaf-4260-a406-bdec834bb99c",
   "metadata": {},
   "outputs": [],
   "source": [
    "demo1314 = pd.read_sas('docs/2013-14/DEMO_H.xpt', format='xport')  # demographics"
   ]
  },
  {
   "cell_type": "code",
   "execution_count": 212,
   "id": "4e9f9792-c52e-4dae-9e9d-9a74c090ab91",
   "metadata": {},
   "outputs": [],
   "source": [
    "demo1314.rename(columns={\"INDFMPIR\": \"income_poverty\"}, inplace=True)"
   ]
  },
  {
   "cell_type": "code",
   "execution_count": 213,
   "id": "e140cdca-c4dd-488c-a7ad-51da8f307305",
   "metadata": {},
   "outputs": [],
   "source": [
    "df1314 = pd.merge(df1314, demo1314, on='SEQN', how='inner')  # joining egg consumption data with demographics"
   ]
  },
  {
   "cell_type": "code",
   "execution_count": 214,
   "id": "4759e9df-49b4-4243-b6c7-328977c62c7d",
   "metadata": {},
   "outputs": [
    {
     "data": {
      "text/plain": [
       "1790"
      ]
     },
     "execution_count": 214,
     "metadata": {},
     "output_type": "execute_result"
    }
   ],
   "source": [
    "df1314[\"SEQN\"].nunique()  # count distinct"
   ]
  },
  {
   "cell_type": "markdown",
   "id": "de3c3c28-867e-4e5e-8dca-aad5a2b31649",
   "metadata": {},
   "source": [
    "**273 out of 1790 egg-eating participants fell into the richest tier, around 15%**"
   ]
  },
  {
   "cell_type": "code",
   "execution_count": 215,
   "id": "9b411661-c7bf-44bd-bf52-bfffadc5691d",
   "metadata": {},
   "outputs": [
    {
     "data": {
      "text/plain": [
       "273"
      ]
     },
     "execution_count": 215,
     "metadata": {},
     "output_type": "execute_result"
    }
   ],
   "source": [
    "df1314[df1314['income_poverty']== 5.00][\"SEQN\"].nunique()"
   ]
  },
  {
   "cell_type": "markdown",
   "id": "3e8a75a6-9628-41e9-827e-fc12751bfe99",
   "metadata": {},
   "source": [
    "**126 out of 1790 reported more than one instance of egg consumption, around 7%**"
   ]
  },
  {
   "cell_type": "code",
   "execution_count": 218,
   "id": "7ceaa2f7-98ad-4848-aca5-2eb20b2bb6fb",
   "metadata": {
    "collapsed": true,
    "jupyter": {
     "outputs_hidden": true
    }
   },
   "outputs": [
    {
     "name": "stdout",
     "output_type": "stream",
     "text": [
      "SEQN\n",
      "81291    4\n",
      "74470    3\n",
      "76600    3\n",
      "77422    3\n",
      "78356    3\n",
      "78371    3\n",
      "79388    3\n",
      "79390    3\n",
      "73722    2\n",
      "83351    2\n",
      "83299    2\n",
      "83250    2\n",
      "83170    2\n",
      "83169    2\n",
      "83101    2\n",
      "82854    2\n",
      "82713    2\n",
      "82610    2\n",
      "82551    2\n",
      "82200    2\n",
      "82190    2\n",
      "82086    2\n",
      "82045    2\n",
      "81958    2\n",
      "81704    2\n",
      "81593    2\n",
      "81512    2\n",
      "81503    2\n",
      "81479    2\n",
      "81356    2\n",
      "81352    2\n",
      "81331    2\n",
      "81304    2\n",
      "73678    2\n",
      "81145    2\n",
      "81080    2\n",
      "81009    2\n",
      "80961    2\n",
      "80900    2\n",
      "80823    2\n",
      "80778    2\n",
      "80623    2\n",
      "80585    2\n",
      "80479    2\n",
      "80413    2\n",
      "80096    2\n",
      "80092    2\n",
      "80050    2\n",
      "79914    2\n",
      "79849    2\n",
      "79809    2\n",
      "79739    2\n",
      "79636    2\n",
      "79603    2\n",
      "79573    2\n",
      "79549    2\n",
      "73674    2\n",
      "73740    2\n",
      "83701    2\n",
      "79211    2\n",
      "78970    2\n",
      "78821    2\n",
      "73878    2\n",
      "78812    2\n",
      "78772    2\n",
      "78767    2\n",
      "78694    2\n",
      "78655    2\n",
      "78638    2\n",
      "78594    2\n",
      "78479    2\n",
      "73660    2\n",
      "83429    2\n",
      "78303    2\n",
      "78240    2\n",
      "78195    2\n",
      "78054    2\n",
      "77951    2\n",
      "77943    2\n",
      "77930    2\n",
      "77835    2\n",
      "77668    2\n",
      "77570    2\n",
      "77556    2\n",
      "77554    2\n",
      "77514    2\n",
      "83478    2\n",
      "77365    2\n",
      "77265    2\n",
      "77262    2\n",
      "77130    2\n",
      "77121    2\n",
      "77100    2\n",
      "77008    2\n",
      "76982    2\n",
      "76637    2\n",
      "76603    2\n",
      "83480    2\n",
      "76518    2\n",
      "76468    2\n",
      "76397    2\n",
      "75978    2\n",
      "74097    2\n",
      "75915    2\n",
      "75746    2\n",
      "74115    2\n",
      "75635    2\n",
      "75585    2\n",
      "75560    2\n",
      "75445    2\n",
      "75441    2\n",
      "75391    2\n",
      "75333    2\n",
      "75269    2\n",
      "75015    2\n",
      "74931    2\n",
      "74806    2\n",
      "74771    2\n",
      "74733    2\n",
      "74661    2\n",
      "74595    2\n",
      "74570    2\n",
      "83518    2\n",
      "74393    2\n",
      "74328    2\n",
      "74250    2\n",
      "Name: count, dtype: int64\n"
     ]
    }
   ],
   "source": [
    "pd.set_option(\"display.max_rows\", 130)  # adjusting maximum output\n",
    "print(df1314['SEQN'].value_counts().head(126))"
   ]
  },
  {
   "cell_type": "code",
   "execution_count": 219,
   "id": "5a7f817e-8719-4cf6-bd7f-7a0ea859d9ba",
   "metadata": {},
   "outputs": [],
   "source": [
    "df1314.to_excel('docs/2013-14/egg_consumption_demo.xlsx')  # saving to local file"
   ]
  },
  {
   "cell_type": "markdown",
   "id": "0e1d6772-c49f-46b6-96b8-7c8ccd898cb9",
   "metadata": {},
   "source": [
    "#### Plotting with R"
   ]
  },
  {
   "cell_type": "code",
   "execution_count": 220,
   "id": "40d48600-fb05-475c-a881-791ad81f040e",
   "metadata": {
    "collapsed": true,
    "jupyter": {
     "outputs_hidden": true
    }
   },
   "outputs": [
    {
     "name": "stdout",
     "output_type": "stream",
     "text": [
      "New names:\n",
      "• `` -> `...1`\n",
      "# A tibble: 1,925 × 136\n",
      "    ...1  SEQN  WTDRD1   WTDR2D DR1ILINE DR1DRSTZ DR1EXMER DRABF DRDINT DR1DBIH\n",
      "   <dbl> <dbl>   <dbl>    <dbl>    <dbl>    <dbl>    <dbl> <dbl>  <dbl>   <dbl>\n",
      " 1     0 73562  49891. 5.40e-79       10        1       49     2      1      11\n",
      " 2     1 73568  56404. 4.40e+ 4        5        1       87     2      2      12\n",
      " 3     2 73592 140175. 2.17e+ 5       11        1       25     2      2      42\n",
      " 4     3 73593  40363. 1.67e+ 5        1        1       63     2      2      24\n",
      " 5     4 73594  93661. 1.45e+ 5        9        1       61     2      2      22\n",
      " 6     5 73600  16546. 5.40e-79        4        1       25     2      1       6\n",
      " 7     6 73605  46620. 1.46e+ 5        1        1        2     2      2       3\n",
      " 8     7 73609   6814. 5.53e+ 3       11        1       25     2      2      17\n",
      " 9     8 73610  55050. 2.04e+ 5        2        1       54     2      2       5\n",
      "10     9 73613  26765. 8.30e+ 4        8        1       49     2      2      34\n",
      "# ℹ 1,915 more rows\n",
      "# ℹ 126 more variables: DR1DAY <dbl>, DR1LANG <dbl>, DR1CCMNM <dbl>,\n",
      "#   DR1CCMTX <dbl>, DR1_020 <dbl>, DR1_030Z <dbl>, DR1FS <dbl>, DR1_040Z <dbl>,\n",
      "#   food_code <dbl>, DR1IGRMS <dbl>, DR1IKCAL <dbl>, DR1IPROT <dbl>,\n",
      "#   DR1ICARB <dbl>, DR1ISUGR <dbl>, DR1IFIBE <dbl>, DR1ITFAT <dbl>,\n",
      "#   DR1ISFAT <dbl>, DR1IMFAT <dbl>, DR1IPFAT <dbl>, DR1ICHOL <dbl>,\n",
      "#   DR1IATOC <dbl>, DR1IATOA <dbl>, DR1IRET <dbl>, DR1IVARA <dbl>, …\n",
      "# ℹ Use `print(n = ...)` to see more rows, and `colnames()` to see all variable names\n"
     ]
    }
   ],
   "source": [
    "%%R\n",
    "\n",
    "df1314 <- read_excel('docs/2013-14/egg_consumption_demo.xlsx')\n",
    "df1314"
   ]
  },
  {
   "cell_type": "code",
   "execution_count": 274,
   "id": "4fb21cf3-45b1-456e-b6f9-16f49d00c0b3",
   "metadata": {},
   "outputs": [],
   "source": [
    "%%R\n",
    "\n",
    "plot1314 = \n",
    "    ggplot(df1314) +\n",
    "    aes(x=income_poverty) +\n",
    "    geom_histogram(binwidth=0.35, aes(fill = ifelse(income_poverty >= 4.75, \"Highlight\", \"Fade\"))) +\n",
    "    scale_fill_manual(values = c(\"Highlight\" = \"#D5B185\", \"Fade\" = \"#F4E1C9\")) +\n",
    "    theme_minimal() +\n",
    "    theme(\n",
    "        panel.grid.major.x = element_blank(),\n",
    "        panel.grid.minor.x = element_blank(),\n",
    "        #panel.grid.minor.y = element_blank()\n",
    "        legend.position = 'None'\n",
    "    ) +\n",
    "    labs(\n",
    "        x = \"ratio of family income to poverty\",\n",
    "        title = \"Are eggs luxuries?\", \n",
    "        subtitle = \"People with family incomes at least five times the poverty threshold consumed more eggs, \n",
    "2013-2014 CDC survey shows.\", \n",
    "        caption = \"Source: National Health and Nutrition Examination Survey\"\n",
    "    )\n",
    "\n"
   ]
  },
  {
   "cell_type": "code",
   "execution_count": 278,
   "id": "e7da139c-af04-4cdc-8bf0-d7403f477b1e",
   "metadata": {},
   "outputs": [
    {
     "data": {
      "text/plain": [
       "In addition: Warning message:\n",
       "Removed 122 rows containing non-finite outside the scale range (`stat_bin()`). \n"
      ]
     },
     "metadata": {},
     "output_type": "display_data"
    }
   ],
   "source": [
    "%%R\n",
    "\n",
    "ggsave(\"docs/2013-14/my_plot.svg\", plot = plot1314, width = 8, height = 6, dpi = 300)"
   ]
  },
  {
   "cell_type": "code",
   "execution_count": null,
   "id": "73a0c47d-2475-4fa0-9db7-b314d7da3c3f",
   "metadata": {},
   "outputs": [],
   "source": []
  }
 ],
 "metadata": {
  "kernelspec": {
   "display_name": "Python 3 (ipykernel)",
   "language": "python",
   "name": "python3"
  },
  "language_info": {
   "codemirror_mode": {
    "name": "ipython",
    "version": 3
   },
   "file_extension": ".py",
   "mimetype": "text/x-python",
   "name": "python",
   "nbconvert_exporter": "python",
   "pygments_lexer": "ipython3",
   "version": "3.12.7"
  }
 },
 "nbformat": 4,
 "nbformat_minor": 5
}
